{
 "cells": [
  {
   "cell_type": "code",
   "execution_count": 2,
   "metadata": {},
   "outputs": [],
   "source": [
    "import pandas as pd\n",
    "import numpy as np\n",
    "import matplotlib.pyplot as plt\n",
    "import seaborn as sns"
   ]
  },
  {
   "cell_type": "code",
   "execution_count": 3,
   "metadata": {},
   "outputs": [
    {
     "data": {
      "text/html": [
       "<div>\n",
       "<style scoped>\n",
       "    .dataframe tbody tr th:only-of-type {\n",
       "        vertical-align: middle;\n",
       "    }\n",
       "\n",
       "    .dataframe tbody tr th {\n",
       "        vertical-align: top;\n",
       "    }\n",
       "\n",
       "    .dataframe thead th {\n",
       "        text-align: right;\n",
       "    }\n",
       "</style>\n",
       "<table border=\"1\" class=\"dataframe\">\n",
       "  <thead>\n",
       "    <tr style=\"text-align: right;\">\n",
       "      <th></th>\n",
       "      <th>0</th>\n",
       "      <th>1</th>\n",
       "      <th>2</th>\n",
       "      <th>3</th>\n",
       "      <th>4</th>\n",
       "      <th>5</th>\n",
       "      <th>6</th>\n",
       "      <th>7</th>\n",
       "      <th>8</th>\n",
       "      <th>9</th>\n",
       "      <th>10</th>\n",
       "    </tr>\n",
       "  </thead>\n",
       "  <tbody>\n",
       "    <tr>\n",
       "      <th>0</th>\n",
       "      <td>28.7967</td>\n",
       "      <td>16.0021</td>\n",
       "      <td>2.6449</td>\n",
       "      <td>0.3918</td>\n",
       "      <td>0.1982</td>\n",
       "      <td>27.7004</td>\n",
       "      <td>22.0110</td>\n",
       "      <td>-8.2027</td>\n",
       "      <td>40.0920</td>\n",
       "      <td>81.8828</td>\n",
       "      <td>g</td>\n",
       "    </tr>\n",
       "    <tr>\n",
       "      <th>1</th>\n",
       "      <td>31.6036</td>\n",
       "      <td>11.7235</td>\n",
       "      <td>2.5185</td>\n",
       "      <td>0.5303</td>\n",
       "      <td>0.3773</td>\n",
       "      <td>26.2722</td>\n",
       "      <td>23.8238</td>\n",
       "      <td>-9.9574</td>\n",
       "      <td>6.3609</td>\n",
       "      <td>205.2610</td>\n",
       "      <td>g</td>\n",
       "    </tr>\n",
       "    <tr>\n",
       "      <th>2</th>\n",
       "      <td>162.0520</td>\n",
       "      <td>136.0310</td>\n",
       "      <td>4.0612</td>\n",
       "      <td>0.0374</td>\n",
       "      <td>0.0187</td>\n",
       "      <td>116.7410</td>\n",
       "      <td>-64.8580</td>\n",
       "      <td>-45.2160</td>\n",
       "      <td>76.9600</td>\n",
       "      <td>256.7880</td>\n",
       "      <td>g</td>\n",
       "    </tr>\n",
       "    <tr>\n",
       "      <th>3</th>\n",
       "      <td>23.8172</td>\n",
       "      <td>9.5728</td>\n",
       "      <td>2.3385</td>\n",
       "      <td>0.6147</td>\n",
       "      <td>0.3922</td>\n",
       "      <td>27.2107</td>\n",
       "      <td>-6.4633</td>\n",
       "      <td>-7.1513</td>\n",
       "      <td>10.4490</td>\n",
       "      <td>116.7370</td>\n",
       "      <td>g</td>\n",
       "    </tr>\n",
       "    <tr>\n",
       "      <th>4</th>\n",
       "      <td>75.1362</td>\n",
       "      <td>30.9205</td>\n",
       "      <td>3.1611</td>\n",
       "      <td>0.3168</td>\n",
       "      <td>0.1832</td>\n",
       "      <td>-5.5277</td>\n",
       "      <td>28.5525</td>\n",
       "      <td>21.8393</td>\n",
       "      <td>4.6480</td>\n",
       "      <td>356.4620</td>\n",
       "      <td>g</td>\n",
       "    </tr>\n",
       "  </tbody>\n",
       "</table>\n",
       "</div>"
      ],
      "text/plain": [
       "         0         1       2       3       4         5        6        7   \\\n",
       "0   28.7967   16.0021  2.6449  0.3918  0.1982   27.7004  22.0110  -8.2027   \n",
       "1   31.6036   11.7235  2.5185  0.5303  0.3773   26.2722  23.8238  -9.9574   \n",
       "2  162.0520  136.0310  4.0612  0.0374  0.0187  116.7410 -64.8580 -45.2160   \n",
       "3   23.8172    9.5728  2.3385  0.6147  0.3922   27.2107  -6.4633  -7.1513   \n",
       "4   75.1362   30.9205  3.1611  0.3168  0.1832   -5.5277  28.5525  21.8393   \n",
       "\n",
       "        8         9  10  \n",
       "0  40.0920   81.8828  g  \n",
       "1   6.3609  205.2610  g  \n",
       "2  76.9600  256.7880  g  \n",
       "3  10.4490  116.7370  g  \n",
       "4   4.6480  356.4620  g  "
      ]
     },
     "execution_count": 3,
     "metadata": {},
     "output_type": "execute_result"
    }
   ],
   "source": [
    "df = pd.read_csv('gamma.csv', header=None)\n",
    "df.head()"
   ]
  },
  {
   "cell_type": "code",
   "execution_count": 4,
   "metadata": {},
   "outputs": [
    {
     "name": "stdout",
     "output_type": "stream",
     "text": [
      "(19020, 11)\n"
     ]
    }
   ],
   "source": [
    "print(df.shape)"
   ]
  },
  {
   "cell_type": "code",
   "execution_count": 5,
   "metadata": {},
   "outputs": [
    {
     "data": {
      "text/plain": [
       "g    12332\n",
       "h     6688\n",
       "Name: 10, dtype: int64"
      ]
     },
     "execution_count": 5,
     "metadata": {},
     "output_type": "execute_result"
    }
   ],
   "source": [
    "df[10].value_counts()"
   ]
  },
  {
   "cell_type": "code",
   "execution_count": 5,
   "metadata": {},
   "outputs": [],
   "source": [
    "data_x = df.iloc[:, :-1]\n",
    "data_y = df.iloc[:, -1]"
   ]
  },
  {
   "cell_type": "code",
   "execution_count": 6,
   "metadata": {},
   "outputs": [],
   "source": [
    "from sklearn.model_selection import train_test_split\n",
    "from sklearn.preprocessing import MinMaxScaler\n",
    "\n",
    "# Random Train/Test Split\n",
    "train_x, test_x, train_y, test_y = train_test_split(data_x, data_y,\n",
    "                                                    test_size=0.30, \n",
    "                                                    shuffle=True,\n",
    "                                                    random_state=42)\n",
    "\n",
    "# Normalization of features\n",
    "min_max_scaler = MinMaxScaler()\n",
    "train_x = min_max_scaler.fit_transform(train_x)\n",
    "test_x = min_max_scaler.transform(test_x)\n",
    "\n",
    "# Create DataFrame from Numpy array\n",
    "train_x = pd.DataFrame(train_x)\n",
    "test_x = pd.DataFrame(test_x)\n",
    "\n",
    "# Prevents issues with CV\n",
    "train_x.reset_index(drop=True, inplace=True)\n",
    "test_x.reset_index(drop=True, inplace=True)\n",
    "train_y.reset_index(drop=True, inplace=True)\n",
    "test_y.reset_index(drop=True, inplace=True)"
   ]
  },
  {
   "cell_type": "code",
   "execution_count": 7,
   "metadata": {},
   "outputs": [
    {
     "name": "stdout",
     "output_type": "stream",
     "text": [
      "g    8627\n",
      "h    4687\n",
      "Name: 10, dtype: int64\n",
      "g    3705\n",
      "h    2001\n",
      "Name: 10, dtype: int64\n"
     ]
    }
   ],
   "source": [
    "print(train_y.value_counts())\n",
    "print(test_y.value_counts())"
   ]
  },
  {
   "cell_type": "markdown",
   "metadata": {},
   "source": [
    "### Cross Validation\n",
    "- Notes on the dataset:\n",
    "    - g = gamma (signal): 12332       = 0 (negative class)\n",
    "    - h = hadron (background): 6688   = 1 (positive class)"
   ]
  },
  {
   "cell_type": "markdown",
   "metadata": {},
   "source": [
    "#### LEARNING CURVES"
   ]
  },
  {
   "cell_type": "code",
   "execution_count": 27,
   "metadata": {},
   "outputs": [
    {
     "name": "stdout",
     "output_type": "stream",
     "text": [
      "# of samples: 6657\n",
      "# of samples: 8876\n",
      "# of samples: 9985\n",
      "# of samples: 10651\n",
      "# of samples: 11095\n",
      "# of samples: 11649\n",
      "# of samples: 11982\n",
      "# of samples: 12204\n",
      "# of samples: 12363\n",
      "# of samples: 13047\n",
      "# of samples: 13180\n",
      "# of samples: 6657\n",
      "# of samples: 4438\n",
      "# of samples: 3328\n",
      "# of samples: 2662\n",
      "# of samples: 2219\n",
      "# of samples: 1902\n",
      "# of samples: 1479\n",
      "# of samples: 1210\n",
      "# of samples: 1024\n",
      "# of samples: 266\n",
      "# of samples: 133\n",
      "# of samples: 26\n"
     ]
    }
   ],
   "source": [
    "'''LEARNING CURVE!!!'''\n",
    "'''Stratified Shuffle K-fold CV, AT DIFFERENT SAMPLE SIZES'''\n",
    "from sklearn.model_selection import StratifiedShuffleSplit, StratifiedKFold\n",
    "from sklearn.metrics import roc_curve, auc\n",
    "from sklearn.tree import DecisionTreeClassifier\n",
    "from sklearn.ensemble import AdaBoostClassifier\n",
    "from sklearn.neural_network import MLPClassifier\n",
    "from sklearn.svm import SVC\n",
    "from sklearn.neighbors import KNeighborsClassifier\n",
    "\n",
    "# For storing statistics for future plots\n",
    "fold_train_scores = []\n",
    "fold_val_scores = []\n",
    "number_samples_list = []\n",
    "\n",
    "'''MODEL BUILD HERE'''\n",
    "# DecisionTreeClassifier(criterion='entropy', max_depth=5)\n",
    "# AdaBoostClassifier(base_estimator=DecisionTreeClassifier(criterion='entropy', max_depth=3), n_estimators=12) \n",
    "# MLPClassifier(hidden_layer_sizes=(10,10), max_iter=60, learning_rate_init=0.025)\n",
    "# SVC(kernel='rbf', gamma=2.0)\n",
    "# KNeighborsClassifier(n_neighbors=3)\n",
    "model = KNeighborsClassifier(n_neighbors=3)\n",
    "\n",
    "for i in [2, 3, 4, 5, 6, 8, 10, 12, 14, 50, 100]:\n",
    "    '''\n",
    "    Loop through a set of folds of CV\n",
    "    Collect success metrics for each CV run\n",
    "    Plot # of folds/# of samples vs success metric\n",
    "    '''\n",
    "    \n",
    "    # Get splits of CV\n",
    "    folds = i\n",
    "    number_samples = int(train_x.shape[0] - (train_x.shape[0]/folds))\n",
    "    sss = StratifiedKFold(folds)\n",
    "\n",
    "    # Store Scoring Metric\n",
    "    train_scores = []\n",
    "    val_scores = []\n",
    "\n",
    "    print('# of samples:', number_samples)\n",
    "    for train_index, val_index in sss.split(train_x, train_y):\n",
    "\n",
    "        # Train and validation sets\n",
    "        partial_train_x, val_x = train_x.iloc[train_index, :], train_x.iloc[val_index, :]\n",
    "        partial_train_y, val_y = train_y[train_index], train_y[val_index]\n",
    "\n",
    "        # Build and Train Model\n",
    "        clf = model         \n",
    "        clf.fit(partial_train_x, partial_train_y)\n",
    "\n",
    "        # Collect success metrics\n",
    "        train_score = clf.score(partial_train_x, partial_train_y)\n",
    "        train_scores.append(train_score)\n",
    "\n",
    "        val_score = clf.score(val_x, val_y)\n",
    "        val_scores.append(val_score)\n",
    "\n",
    "\n",
    "    # Get average scores from CV\n",
    "    avg_train = np.average(train_scores)\n",
    "    avg_val = np.average(val_scores)\n",
    "\n",
    "    # Append to final score lists\n",
    "    fold_train_scores.append(avg_train)\n",
    "    fold_val_scores.append(avg_val)\n",
    "    number_samples_list.append(number_samples)\n",
    "    \n",
    "# Reverse CV where training is the fold left out and test is all the other folds\n",
    "for i in [2, 3, 4, 5, 6, 7, 9, 11, 13, 50, 100, 500]:\n",
    "    '''\n",
    "    Loop through a set of folds of CV\n",
    "    Collect success metrics for each CV run\n",
    "    Plot # of folds/# of samples vs success metric\n",
    "    '''\n",
    "    \n",
    "    # Get splits of CV\n",
    "    folds = i\n",
    "    number_samples = int(train_x.shape[0]/folds)\n",
    "    sss = StratifiedKFold(folds)\n",
    "\n",
    "    # Store Scoring Metric\n",
    "    train_scores = []\n",
    "    val_scores = []\n",
    "\n",
    "    print('# of samples:', number_samples)\n",
    "    for train_index, val_index in sss.split(train_x, train_y):\n",
    "\n",
    "        # Train and validation sets\n",
    "        partial_train_x, val_x = train_x.iloc[val_index, :], train_x.iloc[train_index, :]\n",
    "        partial_train_y, val_y = train_y[val_index], train_y[train_index]\n",
    "\n",
    "        # Build and Train Model\n",
    "        clf = model\n",
    "        clf.fit(partial_train_x, partial_train_y)\n",
    "\n",
    "        # Collect success metrics\n",
    "        train_score = clf.score(partial_train_x, partial_train_y)\n",
    "        train_scores.append(train_score)\n",
    "\n",
    "        val_score = clf.score(val_x, val_y)\n",
    "        val_scores.append(val_score)\n",
    "\n",
    "\n",
    "    # Get average scores from CV\n",
    "    avg_train = np.average(train_scores)\n",
    "    avg_val = np.average(val_scores)\n",
    "\n",
    "    # Append to final score lists\n",
    "    fold_train_scores.append(avg_train)\n",
    "    fold_val_scores.append(avg_val)\n",
    "    number_samples_list.append(number_samples)"
   ]
  },
  {
   "cell_type": "code",
   "execution_count": 28,
   "metadata": {},
   "outputs": [
    {
     "data": {
      "image/png": "[encoded data removed]",
      "text/plain": [
       "<Figure size 432x288 with 1 Axes>"
      ]
     },
     "metadata": {},
     "output_type": "display_data"
    }
   ],
   "source": [
    "'''# of Samples vs Accuracy Rate'''\n",
    "# Change title, xlabel, ylabel appropriately\n",
    "xlabel = '# of Samples in Training Set'\n",
    "ylabel = 'Accuracy'\n",
    "title = 'KNN'\n",
    "dataset = 'MAGIC'\n",
    "\n",
    "sns.set()\n",
    "plt.scatter(x=number_samples_list, y=fold_train_scores, label='Train')\n",
    "plt.scatter(x=number_samples_list, y=fold_val_scores, label='Validation')\n",
    "\n",
    "plt.xlabel(xlabel)\n",
    "plt.ylabel(ylabel)\n",
    "plt.title(title)\n",
    "plt.legend()\n",
    "\n",
    "# Saving plots\n",
    "plt.savefig(\"plots/\" + dataset + '_' + title + '_' + xlabel + \".png\")\n",
    "\n",
    "plt.show()"
   ]
  },
  {
   "cell_type": "markdown",
   "metadata": {},
   "source": [
    "#### MODEL COMPLEXITY"
   ]
  },
  {
   "cell_type": "code",
   "execution_count": 25,
   "metadata": {},
   "outputs": [
    {
     "name": "stdout",
     "output_type": "stream",
     "text": [
      "1\n",
      "2\n",
      "3\n",
      "4\n",
      "5\n",
      "6\n",
      "7\n",
      "8\n",
      "9\n"
     ]
    }
   ],
   "source": [
    "'''MODEL COMPLEXITY CURVE'''\n",
    "'''Stratified Shuffle K-fold CV'''\n",
    "from sklearn.model_selection import StratifiedShuffleSplit, StratifiedKFold\n",
    "from sklearn.metrics import roc_curve, auc\n",
    "from sklearn.tree import DecisionTreeClassifier\n",
    "from sklearn.ensemble import AdaBoostClassifier\n",
    "from sklearn.neural_network import MLPClassifier\n",
    "from sklearn.svm import SVC\n",
    "from sklearn.neighbors import KNeighborsClassifier\n",
    "\n",
    "# For storing statistics for future plots\n",
    "hyperparameter_train_scores = []\n",
    "hyperparameter_val_scores = []\n",
    "hyperparameter_list = []\n",
    "\n",
    "\n",
    "# range(1, 30, 1)\n",
    "# range(1, 50, 1)\n",
    "# range(10, 300, 25)\n",
    "# [0.001, 0.005, 0.01, 0.025, 0.05, 0.10, 0.20]\n",
    "# ['linear', 'poly', 'rbf', 'sigmoid']\n",
    "# [0.05, 0.10, 0.25, 0.50, 1.0, 1.5, 2.0, 3.0]\n",
    "# range(1, 10, 1)\n",
    "\n",
    "for i in range(1, 10, 1):                        \n",
    "    '''\n",
    "    Loop through a range of values for a particular hyperparameter\n",
    "    Collect success metric for each discrete hyperparameter value\n",
    "        - Must determine at what number of CV folds to choose\n",
    "    Plot the hyperparameters vs the success metric\n",
    "    '''\n",
    "    print(i)\n",
    "    \n",
    "    '''MODEL BUILD HERE'''\n",
    "    # DecisionTreeClassifier(criterion='entropy', max_depth=i)\n",
    "    # AdaBoostClassifier(base_estimator=DecisionTreeClassifier(criterion='entropy', max_depth=3), n_estimators=i) \n",
    "    # MLPClassifier(hidden_layer_sizes=(10,10), max_iter=60, learning_rate_init=i)\n",
    "    # SVC(kernel=i, degree=2)\n",
    "    # KNeighborsClassifier(n_neighbors=i)\n",
    "    clf = KNeighborsClassifier(n_neighbors=i)\n",
    "    \n",
    "    # Get splits of CV\n",
    "    folds = 2                                   # CHANGE # of FOLDS HERE\n",
    "    sss = StratifiedKFold(folds)\n",
    "\n",
    "    # Store Scoring Metric\n",
    "    train_scores = []\n",
    "    val_scores = []\n",
    "\n",
    "    for train_index, val_index in sss.split(train_x, train_y):\n",
    "\n",
    "        # Train and validation sets\n",
    "        partial_train_x, val_x = train_x.iloc[train_index, :], train_x.iloc[val_index, :]\n",
    "        partial_train_y, val_y = train_y[train_index], train_y[val_index]\n",
    "\n",
    "        # Build and Train Model          \n",
    "        clf.fit(partial_train_x, partial_train_y)\n",
    "\n",
    "        # Collect success metrics\n",
    "        train_score = clf.score(partial_train_x, partial_train_y)\n",
    "        train_scores.append(train_score)\n",
    "\n",
    "        val_score = clf.score(val_x, val_y)\n",
    "        val_scores.append(val_score)\n",
    "\n",
    "\n",
    "    # Get average scores from CV\n",
    "    avg_train = np.average(train_scores)\n",
    "    avg_val = np.average(val_scores)\n",
    "\n",
    "    # Append to final score lists\n",
    "    hyperparameter_train_scores.append(avg_train)\n",
    "    hyperparameter_val_scores.append(avg_val)\n",
    "    hyperparameter_list.append(i)"
   ]
  },
  {
   "cell_type": "code",
   "execution_count": 26,
   "metadata": {},
   "outputs": [
    {
     "data": {
      "image/png": "[encoded data removed]",
      "text/plain": [
       "<Figure size 432x288 with 1 Axes>"
      ]
     },
     "metadata": {},
     "output_type": "display_data"
    }
   ],
   "source": [
    "'''hyperparameter vs Accuracy Rate'''\n",
    "# Change title, xlabel, ylabel appropriately\n",
    "xlabel = '# of Neighbors'\n",
    "ylabel = 'Accuracy'\n",
    "title = 'KNN'\n",
    "dataset = 'MAGIC'\n",
    "\n",
    "sns.set()\n",
    "\n",
    "# # ONLY FOR SVM KERNEL COMPARISON PLOTS\n",
    "# plt.bar(x=hyperparameter_list, height=hyperparameter_train_scores,\n",
    "#         width=-0.3, align='edge', label='Train')\n",
    "# plt.bar(x=hyperparameter_list, height=hyperparameter_val_scores,\n",
    "#         width=0.3, align='edge', label='Validation')\n",
    "\n",
    "plt.scatter(x=hyperparameter_list, y=hyperparameter_train_scores, label='Train')\n",
    "plt.scatter(x=hyperparameter_list, y=hyperparameter_val_scores, label='Validation')\n",
    "\n",
    "plt.xlabel(xlabel)\n",
    "plt.ylabel(ylabel)\n",
    "plt.title(title)\n",
    "\n",
    "plt.legend()\n",
    "\n",
    "# Saving plots\n",
    "plt.savefig(\"plots/\" + dataset + '_' + title + '_' + xlabel + \".png\")\n",
    "\n",
    "plt.show()"
   ]
  },
  {
   "cell_type": "markdown",
   "metadata": {},
   "source": [
    "#### TIME COMPLEXITY"
   ]
  },
  {
   "cell_type": "code",
   "execution_count": 42,
   "metadata": {},
   "outputs": [
    {
     "name": "stdout",
     "output_type": "stream",
     "text": [
      "10\n",
      "20\n",
      "30\n",
      "40\n",
      "50\n"
     ]
    },
    {
     "name": "stderr",
     "output_type": "stream",
     "text": [
      "/Users/jdemeo/miniconda3/envs/ml/lib/python3.6/site-packages/sklearn/svm/base.py:218: ConvergenceWarning: Solver terminated early (max_iter=10).  Consider pre-processing your data with StandardScaler or MinMaxScaler.\n",
      "  % self.max_iter, ConvergenceWarning)\n",
      "/Users/jdemeo/miniconda3/envs/ml/lib/python3.6/site-packages/sklearn/svm/base.py:218: ConvergenceWarning: Solver terminated early (max_iter=20).  Consider pre-processing your data with StandardScaler or MinMaxScaler.\n",
      "  % self.max_iter, ConvergenceWarning)\n",
      "/Users/jdemeo/miniconda3/envs/ml/lib/python3.6/site-packages/sklearn/svm/base.py:218: ConvergenceWarning: Solver terminated early (max_iter=30).  Consider pre-processing your data with StandardScaler or MinMaxScaler.\n",
      "  % self.max_iter, ConvergenceWarning)\n",
      "/Users/jdemeo/miniconda3/envs/ml/lib/python3.6/site-packages/sklearn/svm/base.py:218: ConvergenceWarning: Solver terminated early (max_iter=40).  Consider pre-processing your data with StandardScaler or MinMaxScaler.\n",
      "  % self.max_iter, ConvergenceWarning)\n",
      "/Users/jdemeo/miniconda3/envs/ml/lib/python3.6/site-packages/sklearn/svm/base.py:218: ConvergenceWarning: Solver terminated early (max_iter=50).  Consider pre-processing your data with StandardScaler or MinMaxScaler.\n",
      "  % self.max_iter, ConvergenceWarning)\n"
     ]
    },
    {
     "name": "stdout",
     "output_type": "stream",
     "text": [
      "60\n",
      "70\n",
      "80\n"
     ]
    },
    {
     "name": "stderr",
     "output_type": "stream",
     "text": [
      "/Users/jdemeo/miniconda3/envs/ml/lib/python3.6/site-packages/sklearn/svm/base.py:218: ConvergenceWarning: Solver terminated early (max_iter=60).  Consider pre-processing your data with StandardScaler or MinMaxScaler.\n",
      "  % self.max_iter, ConvergenceWarning)\n",
      "/Users/jdemeo/miniconda3/envs/ml/lib/python3.6/site-packages/sklearn/svm/base.py:218: ConvergenceWarning: Solver terminated early (max_iter=70).  Consider pre-processing your data with StandardScaler or MinMaxScaler.\n",
      "  % self.max_iter, ConvergenceWarning)\n",
      "/Users/jdemeo/miniconda3/envs/ml/lib/python3.6/site-packages/sklearn/svm/base.py:218: ConvergenceWarning: Solver terminated early (max_iter=80).  Consider pre-processing your data with StandardScaler or MinMaxScaler.\n",
      "  % self.max_iter, ConvergenceWarning)\n"
     ]
    },
    {
     "name": "stdout",
     "output_type": "stream",
     "text": [
      "90\n",
      "100\n",
      "110\n"
     ]
    },
    {
     "name": "stderr",
     "output_type": "stream",
     "text": [
      "/Users/jdemeo/miniconda3/envs/ml/lib/python3.6/site-packages/sklearn/svm/base.py:218: ConvergenceWarning: Solver terminated early (max_iter=90).  Consider pre-processing your data with StandardScaler or MinMaxScaler.\n",
      "  % self.max_iter, ConvergenceWarning)\n",
      "/Users/jdemeo/miniconda3/envs/ml/lib/python3.6/site-packages/sklearn/svm/base.py:218: ConvergenceWarning: Solver terminated early (max_iter=100).  Consider pre-processing your data with StandardScaler or MinMaxScaler.\n",
      "  % self.max_iter, ConvergenceWarning)\n",
      "/Users/jdemeo/miniconda3/envs/ml/lib/python3.6/site-packages/sklearn/svm/base.py:218: ConvergenceWarning: Solver terminated early (max_iter=110).  Consider pre-processing your data with StandardScaler or MinMaxScaler.\n",
      "  % self.max_iter, ConvergenceWarning)\n"
     ]
    },
    {
     "name": "stdout",
     "output_type": "stream",
     "text": [
      "120\n",
      "130\n"
     ]
    },
    {
     "name": "stderr",
     "output_type": "stream",
     "text": [
      "/Users/jdemeo/miniconda3/envs/ml/lib/python3.6/site-packages/sklearn/svm/base.py:218: ConvergenceWarning: Solver terminated early (max_iter=120).  Consider pre-processing your data with StandardScaler or MinMaxScaler.\n",
      "  % self.max_iter, ConvergenceWarning)\n",
      "/Users/jdemeo/miniconda3/envs/ml/lib/python3.6/site-packages/sklearn/svm/base.py:218: ConvergenceWarning: Solver terminated early (max_iter=130).  Consider pre-processing your data with StandardScaler or MinMaxScaler.\n",
      "  % self.max_iter, ConvergenceWarning)\n"
     ]
    },
    {
     "name": "stdout",
     "output_type": "stream",
     "text": [
      "140\n",
      "150\n"
     ]
    },
    {
     "name": "stderr",
     "output_type": "stream",
     "text": [
      "/Users/jdemeo/miniconda3/envs/ml/lib/python3.6/site-packages/sklearn/svm/base.py:218: ConvergenceWarning: Solver terminated early (max_iter=140).  Consider pre-processing your data with StandardScaler or MinMaxScaler.\n",
      "  % self.max_iter, ConvergenceWarning)\n",
      "/Users/jdemeo/miniconda3/envs/ml/lib/python3.6/site-packages/sklearn/svm/base.py:218: ConvergenceWarning: Solver terminated early (max_iter=150).  Consider pre-processing your data with StandardScaler or MinMaxScaler.\n",
      "  % self.max_iter, ConvergenceWarning)\n"
     ]
    },
    {
     "name": "stdout",
     "output_type": "stream",
     "text": [
      "160\n",
      "170\n"
     ]
    },
    {
     "name": "stderr",
     "output_type": "stream",
     "text": [
      "/Users/jdemeo/miniconda3/envs/ml/lib/python3.6/site-packages/sklearn/svm/base.py:218: ConvergenceWarning: Solver terminated early (max_iter=160).  Consider pre-processing your data with StandardScaler or MinMaxScaler.\n",
      "  % self.max_iter, ConvergenceWarning)\n",
      "/Users/jdemeo/miniconda3/envs/ml/lib/python3.6/site-packages/sklearn/svm/base.py:218: ConvergenceWarning: Solver terminated early (max_iter=170).  Consider pre-processing your data with StandardScaler or MinMaxScaler.\n",
      "  % self.max_iter, ConvergenceWarning)\n"
     ]
    },
    {
     "name": "stdout",
     "output_type": "stream",
     "text": [
      "180\n",
      "190\n"
     ]
    },
    {
     "name": "stderr",
     "output_type": "stream",
     "text": [
      "/Users/jdemeo/miniconda3/envs/ml/lib/python3.6/site-packages/sklearn/svm/base.py:218: ConvergenceWarning: Solver terminated early (max_iter=180).  Consider pre-processing your data with StandardScaler or MinMaxScaler.\n",
      "  % self.max_iter, ConvergenceWarning)\n",
      "/Users/jdemeo/miniconda3/envs/ml/lib/python3.6/site-packages/sklearn/svm/base.py:218: ConvergenceWarning: Solver terminated early (max_iter=190).  Consider pre-processing your data with StandardScaler or MinMaxScaler.\n",
      "  % self.max_iter, ConvergenceWarning)\n"
     ]
    },
    {
     "name": "stdout",
     "output_type": "stream",
     "text": [
      "200\n",
      "210\n"
     ]
    },
    {
     "name": "stderr",
     "output_type": "stream",
     "text": [
      "/Users/jdemeo/miniconda3/envs/ml/lib/python3.6/site-packages/sklearn/svm/base.py:218: ConvergenceWarning: Solver terminated early (max_iter=200).  Consider pre-processing your data with StandardScaler or MinMaxScaler.\n",
      "  % self.max_iter, ConvergenceWarning)\n",
      "/Users/jdemeo/miniconda3/envs/ml/lib/python3.6/site-packages/sklearn/svm/base.py:218: ConvergenceWarning: Solver terminated early (max_iter=210).  Consider pre-processing your data with StandardScaler or MinMaxScaler.\n",
      "  % self.max_iter, ConvergenceWarning)\n"
     ]
    },
    {
     "name": "stdout",
     "output_type": "stream",
     "text": [
      "220\n",
      "230\n"
     ]
    },
    {
     "name": "stderr",
     "output_type": "stream",
     "text": [
      "/Users/jdemeo/miniconda3/envs/ml/lib/python3.6/site-packages/sklearn/svm/base.py:218: ConvergenceWarning: Solver terminated early (max_iter=220).  Consider pre-processing your data with StandardScaler or MinMaxScaler.\n",
      "  % self.max_iter, ConvergenceWarning)\n",
      "/Users/jdemeo/miniconda3/envs/ml/lib/python3.6/site-packages/sklearn/svm/base.py:218: ConvergenceWarning: Solver terminated early (max_iter=230).  Consider pre-processing your data with StandardScaler or MinMaxScaler.\n",
      "  % self.max_iter, ConvergenceWarning)\n"
     ]
    },
    {
     "name": "stdout",
     "output_type": "stream",
     "text": [
      "240\n",
      "250\n"
     ]
    },
    {
     "name": "stderr",
     "output_type": "stream",
     "text": [
      "/Users/jdemeo/miniconda3/envs/ml/lib/python3.6/site-packages/sklearn/svm/base.py:218: ConvergenceWarning: Solver terminated early (max_iter=240).  Consider pre-processing your data with StandardScaler or MinMaxScaler.\n",
      "  % self.max_iter, ConvergenceWarning)\n",
      "/Users/jdemeo/miniconda3/envs/ml/lib/python3.6/site-packages/sklearn/svm/base.py:218: ConvergenceWarning: Solver terminated early (max_iter=250).  Consider pre-processing your data with StandardScaler or MinMaxScaler.\n",
      "  % self.max_iter, ConvergenceWarning)\n"
     ]
    },
    {
     "name": "stdout",
     "output_type": "stream",
     "text": [
      "260\n"
     ]
    },
    {
     "name": "stderr",
     "output_type": "stream",
     "text": [
      "/Users/jdemeo/miniconda3/envs/ml/lib/python3.6/site-packages/sklearn/svm/base.py:218: ConvergenceWarning: Solver terminated early (max_iter=260).  Consider pre-processing your data with StandardScaler or MinMaxScaler.\n",
      "  % self.max_iter, ConvergenceWarning)\n"
     ]
    },
    {
     "name": "stdout",
     "output_type": "stream",
     "text": [
      "270\n"
     ]
    },
    {
     "name": "stderr",
     "output_type": "stream",
     "text": [
      "/Users/jdemeo/miniconda3/envs/ml/lib/python3.6/site-packages/sklearn/svm/base.py:218: ConvergenceWarning: Solver terminated early (max_iter=270).  Consider pre-processing your data with StandardScaler or MinMaxScaler.\n",
      "  % self.max_iter, ConvergenceWarning)\n"
     ]
    },
    {
     "name": "stdout",
     "output_type": "stream",
     "text": [
      "280\n"
     ]
    },
    {
     "name": "stderr",
     "output_type": "stream",
     "text": [
      "/Users/jdemeo/miniconda3/envs/ml/lib/python3.6/site-packages/sklearn/svm/base.py:218: ConvergenceWarning: Solver terminated early (max_iter=280).  Consider pre-processing your data with StandardScaler or MinMaxScaler.\n",
      "  % self.max_iter, ConvergenceWarning)\n"
     ]
    },
    {
     "name": "stdout",
     "output_type": "stream",
     "text": [
      "290\n"
     ]
    },
    {
     "name": "stderr",
     "output_type": "stream",
     "text": [
      "/Users/jdemeo/miniconda3/envs/ml/lib/python3.6/site-packages/sklearn/svm/base.py:218: ConvergenceWarning: Solver terminated early (max_iter=290).  Consider pre-processing your data with StandardScaler or MinMaxScaler.\n",
      "  % self.max_iter, ConvergenceWarning)\n"
     ]
    }
   ],
   "source": [
    "'''TIME COMPLEXITY CURVE'''\n",
    "from sklearn.model_selection import StratifiedShuffleSplit, StratifiedKFold\n",
    "from sklearn.metrics import roc_curve, auc\n",
    "from sklearn.tree import DecisionTreeClassifier\n",
    "from sklearn.ensemble import AdaBoostClassifier\n",
    "from sklearn.neural_network import MLPClassifier\n",
    "from sklearn.svm import SVC\n",
    "from sklearn.neighbors import KNeighborsClassifier\n",
    "import time\n",
    "\n",
    "# For storing statistics for future plots\n",
    "iteration_count = []\n",
    "time_elapsed = []\n",
    "\n",
    "for i in range(10, 300, 10):                        \n",
    "    '''\n",
    "    Loop through a range of values for a iterations\n",
    "    Collect time it takes per iteration\n",
    "    Plot the iteration vs time\n",
    "    '''\n",
    "    print(i)\n",
    "    iteration_count.append(i)\n",
    "    \n",
    "    '''MODEL BUILD HERE'''\n",
    "    # AdaBoostClassifier(base_estimator=DecisionTreeClassifier(max_depth=3), n_estimators=i)\n",
    "    # MLPClassifier(hidden_layer_sizes=(10, 10), learning_rate_init=0.025, max_iter=i)\n",
    "    # SVC(kernel='rbf', gamma=2.0, max_iter=i)\n",
    "    clf = SVC(kernel='rbf', gamma=2.0, max_iter=i)\n",
    "    \n",
    "    # START TIME\n",
    "    start = time.time()\n",
    "    \n",
    "    # Train on full dataset\n",
    "    clf.fit(train_x, train_y)\n",
    "    \n",
    "    # END TIME\n",
    "    end = time.time()\n",
    "    time_elapsed.append(end - start)"
   ]
  },
  {
   "cell_type": "code",
   "execution_count": 43,
   "metadata": {},
   "outputs": [
    {
     "data": {
      "image/png": "[encoded data removed]",
      "text/plain": [
       "<Figure size 432x288 with 1 Axes>"
      ]
     },
     "metadata": {},
     "output_type": "display_data"
    }
   ],
   "source": [
    "'''NUMBER OF ITERATIONS VS TIME'''\n",
    "# Change title, xlabel, ylabel appropriately\n",
    "xlabel = '# of iterations'\n",
    "ylabel = 'time (sec)'\n",
    "title = 'SVM'\n",
    "dataset = 'MAGIC'\n",
    "\n",
    "sns.set()\n",
    "\n",
    "plt.scatter(x=iteration_count, y=time_elapsed)\n",
    "\n",
    "plt.xlabel(xlabel)\n",
    "plt.ylabel(ylabel)\n",
    "plt.title(title)\n",
    "\n",
    "# Saving plots\n",
    "plt.savefig(\"plots/\" + dataset + '_' + title + '_' + xlabel + \"_time.png\")\n",
    "\n",
    "plt.show()"
   ]
  },
  {
   "cell_type": "code",
   "execution_count": 64,
   "metadata": {},
   "outputs": [
    {
     "name": "stdout",
     "output_type": "stream",
     "text": [
      "0.1\n",
      "0.2\n",
      "0.30000000000000004\n",
      "0.4\n",
      "0.5\n",
      "0.6000000000000001\n",
      "0.7000000000000001\n",
      "0.8\n",
      "0.9\n"
     ]
    }
   ],
   "source": [
    "'''TIME COMPLEXITY CURVES WITH VARYING SAMPLE SIZE'''\n",
    "from sklearn.model_selection import StratifiedShuffleSplit, StratifiedKFold\n",
    "from sklearn.metrics import roc_curve, auc\n",
    "from sklearn.tree import DecisionTreeClassifier\n",
    "from sklearn.ensemble import AdaBoostClassifier\n",
    "from sklearn.neural_network import MLPClassifier\n",
    "from sklearn.svm import SVC\n",
    "from sklearn.neighbors import KNeighborsClassifier\n",
    "import time\n",
    "\n",
    "# For storing statistics for future plots\n",
    "train_sample_size = []\n",
    "val_sample_size = []\n",
    "train_time_elapsed = []\n",
    "val_time_elapsed = []\n",
    "\n",
    "for i in [i * 0.1 for i in range(1, 10)]:                        \n",
    "    '''\n",
    "    Loop through a range of sample sizes\n",
    "    Calculate start and end times for test and training sets\n",
    "    Plot the sample size vs time\n",
    "    '''\n",
    "    print(i)\n",
    "    train_size = int(len(train_x) * i)\n",
    "    train_sample_size.append(train_size)\n",
    "    \n",
    "    # Create train/validation sets\n",
    "    partial_train_x = train_x[:train_size]\n",
    "    partial_train_y = train_y[:train_size]\n",
    "    val_x = train_x[train_size:]\n",
    "    val_y = train_y[train_size:]\n",
    "    \n",
    "    val_sample_size.append(len(val_y))\n",
    "    \n",
    "    '''MODEL BUILD HERE'''\n",
    "    # DecisionTreeClassifier(criterion='entropy', max_depth=5)\n",
    "    # AdaBoostClassifier(base_estimator=DecisionTreeClassifier(criterion='entropy', max_depth=3), n_estimators=12) \n",
    "    # MLPClassifier(hidden_layer_sizes=(10,10), max_iter=60, learning_rate_init=0.025)\n",
    "    # SVC(kernel='rbf', gamma=2.0)\n",
    "    # KNeighborsClassifier(n_neighbors=3)\n",
    "    clf = DecisionTreeClassifier(criterion='entropy', max_depth=5)\n",
    "    \n",
    "    # TRAINING\n",
    "    # START TIME\n",
    "    start_train = time.time()\n",
    "    \n",
    "    # Train on full dataset\n",
    "    clf.fit(train_x, train_y)\n",
    "    \n",
    "    # END TIME\n",
    "    end_train = time.time()\n",
    "    train_time_elapsed.append(end_train - start_train)\n",
    "    \n",
    "    # VALIDATION\n",
    "    # START TIME\n",
    "    start_val = time.time()\n",
    "    \n",
    "    # Train on full dataset\n",
    "    clf.predict(val_x)\n",
    "    \n",
    "    # END TIME\n",
    "    end_val = time.time()\n",
    "    val_time_elapsed.append(end_val - start_val)"
   ]
  },
  {
   "cell_type": "code",
   "execution_count": 65,
   "metadata": {},
   "outputs": [
    {
     "data": {
      "image/png": "[encoded data removed]",
      "text/plain": [
       "<Figure size 432x288 with 1 Axes>"
      ]
     },
     "metadata": {},
     "output_type": "display_data"
    }
   ],
   "source": [
    "'''SAMPLE SIZE VS TIME'''\n",
    "# Change title, xlabel, ylabel appropriately\n",
    "xlabel = '# of samples'\n",
    "ylabel = 'time (sec)'\n",
    "title = 'KNN'\n",
    "dataset = 'MAGIC'\n",
    "\n",
    "sns.set()\n",
    "\n",
    "plt.scatter(x=train_sample_size, y=train_time_elapsed, label='Train')\n",
    "plt.scatter(x=val_sample_size, y=val_time_elapsed, label='Validation')\n",
    "\n",
    "plt.xlabel(xlabel)\n",
    "plt.ylabel(ylabel)\n",
    "plt.title(title)\n",
    "plt.legend()\n",
    "\n",
    "# # Saving plots\n",
    "# plt.savefig(\"plots/\" + dataset + '_' + title + '_' + xlabel + \"_time.png\")\n",
    "\n",
    "plt.show()"
   ]
  },
  {
   "cell_type": "markdown",
   "metadata": {},
   "source": [
    "## FINAL MODEL BUILDS"
   ]
  },
  {
   "cell_type": "code",
   "execution_count": 30,
   "metadata": {},
   "outputs": [],
   "source": [
    "# Scorers\n",
    "from sklearn.metrics import confusion_matrix\n",
    "from sklearn.model_selection import cross_val_score"
   ]
  },
  {
   "cell_type": "markdown",
   "metadata": {},
   "source": [
    "#### Decision Tree"
   ]
  },
  {
   "cell_type": "code",
   "execution_count": 31,
   "metadata": {},
   "outputs": [
    {
     "name": "stdout",
     "output_type": "stream",
     "text": [
      "2-fold CV Accuracy: 0.8269492076478269\n",
      "Test Accuracy: 0.8193130038555906\n"
     ]
    },
    {
     "data": {
      "text/plain": [
       "array([[3271,  434],\n",
       "       [ 597, 1404]])"
      ]
     },
     "execution_count": 31,
     "metadata": {},
     "output_type": "execute_result"
    }
   ],
   "source": [
    "from sklearn.tree import DecisionTreeClassifier\n",
    "\n",
    "# Build Architecture\n",
    "clf = DecisionTreeClassifier(criterion='entropy', max_depth=5)\n",
    "\n",
    "print('2-fold CV Accuracy:', np.mean(cross_val_score(clf, train_x, train_y, cv=2)))\n",
    "\n",
    "clf.fit(train_x, train_y)\n",
    "\n",
    "pred = clf.predict(test_x)\n",
    "\n",
    "print('Test Accuracy:', clf.score(test_x, test_y))\n",
    "\n",
    "confusion_matrix(test_y, pred)"
   ]
  },
  {
   "cell_type": "markdown",
   "metadata": {},
   "source": [
    "#### AdaBoost"
   ]
  },
  {
   "cell_type": "code",
   "execution_count": 32,
   "metadata": {},
   "outputs": [
    {
     "name": "stdout",
     "output_type": "stream",
     "text": [
      "2-fold CV Accuracy: 0.8481293334580147\n",
      "Test Accuracy: 0.8571678934454959\n"
     ]
    },
    {
     "data": {
      "text/plain": [
       "array([[3434,  271],\n",
       "       [ 544, 1457]])"
      ]
     },
     "execution_count": 32,
     "metadata": {},
     "output_type": "execute_result"
    }
   ],
   "source": [
    "from sklearn.ensemble import AdaBoostClassifier\n",
    "\n",
    "# Build Architecture\n",
    "clf = AdaBoostClassifier(base_estimator=DecisionTreeClassifier(criterion='entropy', max_depth=3), \n",
    "                         n_estimators=12)\n",
    "\n",
    "print('2-fold CV Accuracy:', np.mean(cross_val_score(clf, train_x, train_y, cv=2)))\n",
    "\n",
    "clf.fit(train_x, train_y)\n",
    "\n",
    "pred = clf.predict(test_x)\n",
    "\n",
    "print('Test Accuracy:', clf.score(test_x, test_y))\n",
    "\n",
    "confusion_matrix(test_y, pred)"
   ]
  },
  {
   "cell_type": "markdown",
   "metadata": {},
   "source": [
    "#### Multi-Layer Perceptron (MLP)"
   ]
  },
  {
   "cell_type": "code",
   "execution_count": 34,
   "metadata": {},
   "outputs": [
    {
     "name": "stdout",
     "output_type": "stream",
     "text": [
      "2-fold CV Accuracy: 0.8415198848045728\n",
      "Test Accuracy: 0.852260778128286\n"
     ]
    },
    {
     "data": {
      "text/plain": [
       "array([[3560,  145],\n",
       "       [ 698, 1303]])"
      ]
     },
     "execution_count": 34,
     "metadata": {},
     "output_type": "execute_result"
    }
   ],
   "source": [
    "from sklearn.neural_network import MLPClassifier\n",
    "\n",
    "# Build Architecture\n",
    "clf = MLPClassifier(hidden_layer_sizes=(10,10), max_iter=60, \n",
    "                    learning_rate_init=0.025)\n",
    "\n",
    "print('2-fold CV Accuracy:', np.mean(cross_val_score(clf, train_x, train_y, cv=2)))\n",
    "\n",
    "clf.fit(train_x, train_y)\n",
    "\n",
    "pred = clf.predict(test_x)\n",
    "\n",
    "print('Test Accuracy:', clf.score(test_x, test_y))\n",
    "\n",
    "confusion_matrix(test_y, pred)"
   ]
  },
  {
   "cell_type": "markdown",
   "metadata": {},
   "source": [
    "#### SVM\n",
    "- Kernel: rbf, linear, poly, sigmoid"
   ]
  },
  {
   "cell_type": "code",
   "execution_count": 35,
   "metadata": {},
   "outputs": [
    {
     "name": "stdout",
     "output_type": "stream",
     "text": [
      "2-fold CV Accuracy: 0.8554150894961527\n",
      "Test Accuracy: 0.858745180511742\n"
     ]
    },
    {
     "data": {
      "text/plain": [
       "array([[3534,  171],\n",
       "       [ 635, 1366]])"
      ]
     },
     "execution_count": 35,
     "metadata": {},
     "output_type": "execute_result"
    }
   ],
   "source": [
    "from sklearn.svm import SVC\n",
    "\n",
    "# Build Architecture\n",
    "clf = SVC(kernel='rbf', gamma=2.0)\n",
    "\n",
    "print('2-fold CV Accuracy:', np.mean(cross_val_score(clf, train_x, train_y, cv=2)))\n",
    "\n",
    "clf.fit(train_x, train_y)\n",
    "\n",
    "pred = clf.predict(test_x)\n",
    "\n",
    "print('Test Accuracy:', clf.score(test_x, test_y))\n",
    "\n",
    "confusion_matrix(test_y, pred)"
   ]
  },
  {
   "cell_type": "markdown",
   "metadata": {},
   "source": [
    "#### KNN"
   ]
  },
  {
   "cell_type": "code",
   "execution_count": 36,
   "metadata": {},
   "outputs": [
    {
     "name": "stdout",
     "output_type": "stream",
     "text": [
      "2-fold CV Accuracy: 0.826197689809252\n",
      "Test Accuracy: 0.8261479144759902\n"
     ]
    },
    {
     "data": {
      "text/plain": [
       "array([[3390,  315],\n",
       "       [ 677, 1324]])"
      ]
     },
     "execution_count": 36,
     "metadata": {},
     "output_type": "execute_result"
    }
   ],
   "source": [
    "from sklearn.neighbors import KNeighborsClassifier\n",
    "\n",
    "# Build Architecture\n",
    "clf = KNeighborsClassifier(n_neighbors=3)\n",
    "\n",
    "print('2-fold CV Accuracy:', np.mean(cross_val_score(clf, train_x, train_y, cv=2)))\n",
    "\n",
    "clf.fit(train_x, train_y)\n",
    "\n",
    "pred = clf.predict(test_x)\n",
    "\n",
    "print('Test Accuracy:', clf.score(test_x, test_y))\n",
    "\n",
    "confusion_matrix(test_y, pred)"
   ]
  },
  {
   "cell_type": "code",
   "execution_count": null,
   "metadata": {},
   "outputs": [],
   "source": []
  },
  {
   "cell_type": "code",
   "execution_count": null,
   "metadata": {},
   "outputs": [],
   "source": []
  }
 ],
 "metadata": {
  "kernelspec": {
   "display_name": "ML",
   "language": "python",
   "name": "ml"
  },
  "language_info": {
   "codemirror_mode": {
    "name": "ipython",
    "version": 3
   },
   "file_extension": ".py",
   "mimetype": "text/x-python",
   "name": "python",
   "nbconvert_exporter": "python",
   "pygments_lexer": "ipython3",
   "version": "3.6.6"
  }
 },
 "nbformat": 4,
 "nbformat_minor": 2
}
