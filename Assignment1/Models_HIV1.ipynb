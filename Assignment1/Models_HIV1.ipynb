{
 "cells": [
  {
   "cell_type": "code",
   "execution_count": 1,
   "metadata": {},
   "outputs": [],
   "source": [
    "import pandas as pd\n",
    "import numpy as np\n",
    "import matplotlib.pyplot as plt\n",
    "import seaborn as sns"
   ]
  },
  {
   "cell_type": "code",
   "execution_count": 2,
   "metadata": {},
   "outputs": [
    {
     "name": "stdout",
     "output_type": "stream",
     "text": [
      "Train shape: (1625, 2)\n",
      "Test shape: (746, 2)\n"
     ]
    },
    {
     "data": {
      "text/html": [
       "<div>\n",
       "<style scoped>\n",
       "    .dataframe tbody tr th:only-of-type {\n",
       "        vertical-align: middle;\n",
       "    }\n",
       "\n",
       "    .dataframe tbody tr th {\n",
       "        vertical-align: top;\n",
       "    }\n",
       "\n",
       "    .dataframe thead th {\n",
       "        text-align: right;\n",
       "    }\n",
       "</style>\n",
       "<table border=\"1\" class=\"dataframe\">\n",
       "  <thead>\n",
       "    <tr style=\"text-align: right;\">\n",
       "      <th></th>\n",
       "      <th>amino_acids</th>\n",
       "      <th>cleavage</th>\n",
       "    </tr>\n",
       "  </thead>\n",
       "  <tbody>\n",
       "    <tr>\n",
       "      <th>0</th>\n",
       "      <td>SLNLRETN</td>\n",
       "      <td>1</td>\n",
       "    </tr>\n",
       "    <tr>\n",
       "      <th>1</th>\n",
       "      <td>AECFRIFD</td>\n",
       "      <td>1</td>\n",
       "    </tr>\n",
       "    <tr>\n",
       "      <th>2</th>\n",
       "      <td>HLVEALYL</td>\n",
       "      <td>1</td>\n",
       "    </tr>\n",
       "    <tr>\n",
       "      <th>3</th>\n",
       "      <td>TQIMFETF</td>\n",
       "      <td>1</td>\n",
       "    </tr>\n",
       "    <tr>\n",
       "      <th>4</th>\n",
       "      <td>AEELAEIF</td>\n",
       "      <td>1</td>\n",
       "    </tr>\n",
       "  </tbody>\n",
       "</table>\n",
       "</div>"
      ],
      "text/plain": [
       "  amino_acids  cleavage\n",
       "0    SLNLRETN         1\n",
       "1    AECFRIFD         1\n",
       "2    HLVEALYL         1\n",
       "3    TQIMFETF         1\n",
       "4    AEELAEIF         1"
      ]
     },
     "execution_count": 2,
     "metadata": {},
     "output_type": "execute_result"
    }
   ],
   "source": [
    "# Feature Names\n",
    "feature_names = ['amino_acids', 'cleavage']\n",
    "\n",
    "# LOAD DATA\n",
    "train_df = pd.read_csv('hiv1_1.csv', names=feature_names)\n",
    "test_df = pd.read_csv('hiv1_2.csv', names=feature_names)\n",
    "print('Train shape:', train_df.shape)\n",
    "print('Test shape:', test_df.shape)\n",
    "train_df.head()"
   ]
  },
  {
   "cell_type": "code",
   "execution_count": 3,
   "metadata": {},
   "outputs": [],
   "source": [
    "'''ONE HOT ENCODE AMINO ACIDS'''\n",
    "amino_acids = ['G', 'P', 'A', 'V', 'L', 'I', 'M', 'C', 'F', 'Y', 'W', 'H' ,'K',\n",
    "               'R', 'Q', 'N', 'E', 'D', 'S', 'T']\n",
    "\n",
    "# Create aa Columns by position\n",
    "for amino_acid in amino_acids:\n",
    "    for i in range(8):\n",
    "        amino_pos = amino_acid + str(i)\n",
    "        train_df[amino_pos] = 0\n",
    "        test_df[amino_pos] = 0\n",
    "\n",
    "# Combine DataFrames Momentarily\n",
    "combined_df = pd.concat([train_df, test_df], axis=0).reset_index(drop=True)\n",
    "    \n",
    "# One-Hot Encodings of Amino Acids\n",
    "for i, protein in enumerate(combined_df['amino_acids'].values):\n",
    "    # Iterate through protein sequence\n",
    "    for j, aa in enumerate(protein):\n",
    "        amino_pos = aa + str(j)\n",
    "        combined_df.loc[i, amino_pos] = 1"
   ]
  },
  {
   "cell_type": "code",
   "execution_count": 4,
   "metadata": {},
   "outputs": [
    {
     "data": {
      "text/html": [
       "<div>\n",
       "<style scoped>\n",
       "    .dataframe tbody tr th:only-of-type {\n",
       "        vertical-align: middle;\n",
       "    }\n",
       "\n",
       "    .dataframe tbody tr th {\n",
       "        vertical-align: top;\n",
       "    }\n",
       "\n",
       "    .dataframe thead th {\n",
       "        text-align: right;\n",
       "    }\n",
       "</style>\n",
       "<table border=\"1\" class=\"dataframe\">\n",
       "  <thead>\n",
       "    <tr style=\"text-align: right;\">\n",
       "      <th></th>\n",
       "      <th>amino_acids</th>\n",
       "      <th>cleavage</th>\n",
       "      <th>G0</th>\n",
       "      <th>G1</th>\n",
       "      <th>G2</th>\n",
       "      <th>G3</th>\n",
       "      <th>G4</th>\n",
       "      <th>G5</th>\n",
       "      <th>G6</th>\n",
       "      <th>G7</th>\n",
       "      <th>...</th>\n",
       "      <th>S6</th>\n",
       "      <th>S7</th>\n",
       "      <th>T0</th>\n",
       "      <th>T1</th>\n",
       "      <th>T2</th>\n",
       "      <th>T3</th>\n",
       "      <th>T4</th>\n",
       "      <th>T5</th>\n",
       "      <th>T6</th>\n",
       "      <th>T7</th>\n",
       "    </tr>\n",
       "  </thead>\n",
       "  <tbody>\n",
       "    <tr>\n",
       "      <th>0</th>\n",
       "      <td>SLNLRETN</td>\n",
       "      <td>1</td>\n",
       "      <td>0</td>\n",
       "      <td>0</td>\n",
       "      <td>0</td>\n",
       "      <td>0</td>\n",
       "      <td>0</td>\n",
       "      <td>0</td>\n",
       "      <td>0</td>\n",
       "      <td>0</td>\n",
       "      <td>...</td>\n",
       "      <td>0</td>\n",
       "      <td>0</td>\n",
       "      <td>0</td>\n",
       "      <td>0</td>\n",
       "      <td>0</td>\n",
       "      <td>0</td>\n",
       "      <td>0</td>\n",
       "      <td>0</td>\n",
       "      <td>1</td>\n",
       "      <td>0</td>\n",
       "    </tr>\n",
       "    <tr>\n",
       "      <th>1</th>\n",
       "      <td>AECFRIFD</td>\n",
       "      <td>1</td>\n",
       "      <td>0</td>\n",
       "      <td>0</td>\n",
       "      <td>0</td>\n",
       "      <td>0</td>\n",
       "      <td>0</td>\n",
       "      <td>0</td>\n",
       "      <td>0</td>\n",
       "      <td>0</td>\n",
       "      <td>...</td>\n",
       "      <td>0</td>\n",
       "      <td>0</td>\n",
       "      <td>0</td>\n",
       "      <td>0</td>\n",
       "      <td>0</td>\n",
       "      <td>0</td>\n",
       "      <td>0</td>\n",
       "      <td>0</td>\n",
       "      <td>0</td>\n",
       "      <td>0</td>\n",
       "    </tr>\n",
       "    <tr>\n",
       "      <th>2</th>\n",
       "      <td>HLVEALYL</td>\n",
       "      <td>1</td>\n",
       "      <td>0</td>\n",
       "      <td>0</td>\n",
       "      <td>0</td>\n",
       "      <td>0</td>\n",
       "      <td>0</td>\n",
       "      <td>0</td>\n",
       "      <td>0</td>\n",
       "      <td>0</td>\n",
       "      <td>...</td>\n",
       "      <td>0</td>\n",
       "      <td>0</td>\n",
       "      <td>0</td>\n",
       "      <td>0</td>\n",
       "      <td>0</td>\n",
       "      <td>0</td>\n",
       "      <td>0</td>\n",
       "      <td>0</td>\n",
       "      <td>0</td>\n",
       "      <td>0</td>\n",
       "    </tr>\n",
       "    <tr>\n",
       "      <th>3</th>\n",
       "      <td>TQIMFETF</td>\n",
       "      <td>1</td>\n",
       "      <td>0</td>\n",
       "      <td>0</td>\n",
       "      <td>0</td>\n",
       "      <td>0</td>\n",
       "      <td>0</td>\n",
       "      <td>0</td>\n",
       "      <td>0</td>\n",
       "      <td>0</td>\n",
       "      <td>...</td>\n",
       "      <td>0</td>\n",
       "      <td>0</td>\n",
       "      <td>1</td>\n",
       "      <td>0</td>\n",
       "      <td>0</td>\n",
       "      <td>0</td>\n",
       "      <td>0</td>\n",
       "      <td>0</td>\n",
       "      <td>1</td>\n",
       "      <td>0</td>\n",
       "    </tr>\n",
       "    <tr>\n",
       "      <th>4</th>\n",
       "      <td>AEELAEIF</td>\n",
       "      <td>1</td>\n",
       "      <td>0</td>\n",
       "      <td>0</td>\n",
       "      <td>0</td>\n",
       "      <td>0</td>\n",
       "      <td>0</td>\n",
       "      <td>0</td>\n",
       "      <td>0</td>\n",
       "      <td>0</td>\n",
       "      <td>...</td>\n",
       "      <td>0</td>\n",
       "      <td>0</td>\n",
       "      <td>0</td>\n",
       "      <td>0</td>\n",
       "      <td>0</td>\n",
       "      <td>0</td>\n",
       "      <td>0</td>\n",
       "      <td>0</td>\n",
       "      <td>0</td>\n",
       "      <td>0</td>\n",
       "    </tr>\n",
       "  </tbody>\n",
       "</table>\n",
       "<p>5 rows × 162 columns</p>\n",
       "</div>"
      ],
      "text/plain": [
       "  amino_acids  cleavage  G0  G1  G2  G3  G4  G5  G6  G7 ...  S6  S7  T0  T1  \\\n",
       "0    SLNLRETN         1   0   0   0   0   0   0   0   0 ...   0   0   0   0   \n",
       "1    AECFRIFD         1   0   0   0   0   0   0   0   0 ...   0   0   0   0   \n",
       "2    HLVEALYL         1   0   0   0   0   0   0   0   0 ...   0   0   0   0   \n",
       "3    TQIMFETF         1   0   0   0   0   0   0   0   0 ...   0   0   1   0   \n",
       "4    AEELAEIF         1   0   0   0   0   0   0   0   0 ...   0   0   0   0   \n",
       "\n",
       "   T2  T3  T4  T5  T6  T7  \n",
       "0   0   0   0   0   1   0  \n",
       "1   0   0   0   0   0   0  \n",
       "2   0   0   0   0   0   0  \n",
       "3   0   0   0   0   1   0  \n",
       "4   0   0   0   0   0   0  \n",
       "\n",
       "[5 rows x 162 columns]"
      ]
     },
     "execution_count": 4,
     "metadata": {},
     "output_type": "execute_result"
    }
   ],
   "source": [
    "combined_df.head()"
   ]
  },
  {
   "cell_type": "code",
   "execution_count": 5,
   "metadata": {},
   "outputs": [
    {
     "data": {
      "text/plain": [
       "(2371, 161)"
      ]
     },
     "execution_count": 5,
     "metadata": {},
     "output_type": "execute_result"
    }
   ],
   "source": [
    "# Drop amino_acids string\n",
    "combined_df = combined_df.drop(columns='amino_acids')\n",
    "combined_df.shape"
   ]
  },
  {
   "cell_type": "code",
   "execution_count": 90,
   "metadata": {},
   "outputs": [],
   "source": [
    "data_x = combined_df.iloc[:, 1:]\n",
    "data_y = combined_df.iloc[:, 0]"
   ]
  },
  {
   "cell_type": "code",
   "execution_count": 91,
   "metadata": {},
   "outputs": [],
   "source": [
    "from sklearn.model_selection import train_test_split\n",
    "\n",
    "# Random Train Test Split\n",
    "train_x, test_x, train_y, test_y = train_test_split(data_x, data_y,\n",
    "                                                    test_size=0.30,\n",
    "                                                    shuffle=True,\n",
    "                                                    random_state=42)\n",
    "\n",
    "# Prevents issues with CV\n",
    "train_x.reset_index(drop=True, inplace=True)\n",
    "test_x.reset_index(drop=True, inplace=True)\n",
    "train_y.reset_index(drop=True, inplace=True)\n",
    "test_y.reset_index(drop=True, inplace=True)"
   ]
  },
  {
   "cell_type": "code",
   "execution_count": 92,
   "metadata": {},
   "outputs": [
    {
     "name": "stdout",
     "output_type": "stream",
     "text": [
      "-1    1125\n",
      " 1     534\n",
      "Name: cleavage, dtype: int64\n",
      "-1    469\n",
      " 1    243\n",
      "Name: cleavage, dtype: int64\n"
     ]
    }
   ],
   "source": [
    "print(train_y.value_counts())\n",
    "print(test_y.value_counts())"
   ]
  },
  {
   "cell_type": "markdown",
   "metadata": {},
   "source": [
    "### Cross Validation\n",
    "\n",
    "\n",
    "#### LEARNING CURVES"
   ]
  },
  {
   "cell_type": "code",
   "execution_count": 177,
   "metadata": {},
   "outputs": [
    {
     "name": "stdout",
     "output_type": "stream",
     "text": [
      "# of samples: 829\n",
      "# of samples: 1106\n",
      "# of samples: 1244\n",
      "# of samples: 1327\n",
      "# of samples: 1422\n",
      "# of samples: 1474\n",
      "# of samples: 1508\n",
      "# of samples: 1531\n",
      "# of samples: 1625\n",
      "# of samples: 1642\n",
      "# of samples: 1655\n",
      "# of samples: 829\n",
      "# of samples: 553\n",
      "# of samples: 414\n",
      "# of samples: 331\n",
      "# of samples: 237\n",
      "# of samples: 184\n",
      "# of samples: 150\n",
      "# of samples: 127\n",
      "# of samples: 33\n",
      "# of samples: 16\n",
      "# of samples: 3\n"
     ]
    }
   ],
   "source": [
    "'''LEARNING CURVE!!!'''\n",
    "'''Stratified Shuffle K-fold CV, AT DIFFERENT SAMPLE SIZES'''\n",
    "from sklearn.model_selection import StratifiedShuffleSplit, StratifiedKFold\n",
    "from sklearn.metrics import roc_curve, auc\n",
    "from sklearn.tree import DecisionTreeClassifier\n",
    "from sklearn.ensemble import AdaBoostClassifier\n",
    "from sklearn.neural_network import MLPClassifier\n",
    "from sklearn.svm import SVC\n",
    "from sklearn.neighbors import KNeighborsClassifier\n",
    "\n",
    "# For storing statistics for future plots\n",
    "fold_train_scores = []\n",
    "fold_val_scores = []\n",
    "number_samples_list = []\n",
    "\n",
    "\n",
    "'''MODEL BUILD HERE'''\n",
    "# DecisionTreeClassifier(criterion='entropy', max_depth=9)\n",
    "# AdaBoostClassifier(base_estimator=DecisionTreeClassifier(criterion='entropy', max_depth=5), n_estimators=25)\n",
    "# MLPClassifier(hidden_layer_sizes=(160, 160), max_iter=35, learning_rate_init=0.001)\n",
    "# SVC(kernel='linear')\n",
    "# KNeighborsClassifier(n_neighbors=1)\n",
    "model = SVC(kernel='linear')\n",
    "\n",
    "for i in [2, 3, 4, 5, 7, 9, 11, 13, 50, 100, 533]:\n",
    "    '''\n",
    "    Loop through a set of folds of CV\n",
    "    Collect success metrics for each CV run\n",
    "    Plot # of folds/# of samples vs success metric\n",
    "    '''\n",
    "    \n",
    "    # Get splits of CV\n",
    "    folds = i\n",
    "    number_samples = int(train_x.shape[0] - (train_x.shape[0]/folds))\n",
    "    sss = StratifiedKFold(folds)\n",
    "\n",
    "    # Store Scoring Metric\n",
    "    train_scores = []\n",
    "    val_scores = []\n",
    "\n",
    "    print('# of samples:', number_samples)\n",
    "    for train_index, val_index in sss.split(train_x, train_y):\n",
    "\n",
    "        # Train and validation sets\n",
    "        partial_train_x, val_x = train_x.iloc[train_index, :], train_x.iloc[val_index, :]\n",
    "        partial_train_y, val_y = train_y[train_index], train_y[val_index]\n",
    "\n",
    "        # Build and Train Model\n",
    "        clf = model\n",
    "        clf.fit(partial_train_x, partial_train_y)\n",
    "\n",
    "        # Collect success metrics\n",
    "        train_score = clf.score(partial_train_x, partial_train_y)\n",
    "        train_scores.append(train_score)\n",
    "\n",
    "        val_score = clf.score(val_x, val_y)\n",
    "        val_scores.append(val_score)\n",
    "\n",
    "\n",
    "    # Get average scores from CV\n",
    "    avg_train = np.average(train_scores)\n",
    "    avg_val = np.average(val_scores)\n",
    "\n",
    "    # Append to final score lists\n",
    "    fold_train_scores.append(avg_train)\n",
    "    fold_val_scores.append(avg_val)\n",
    "    number_samples_list.append(number_samples)\n",
    "    \n",
    "# Reverse CV where training is the fold left out and test is all the other folds\n",
    "for i in [2, 3, 4, 5, 7, 9, 11, 13, 50, 100, 533]:\n",
    "    '''\n",
    "    Loop through a set of folds of CV\n",
    "    Collect success metrics for each CV run\n",
    "    Plot # of folds/# of samples vs success metric\n",
    "    '''\n",
    "    \n",
    "    # Get splits of CV\n",
    "    folds = i\n",
    "    number_samples = int(train_x.shape[0]/folds)\n",
    "    sss = StratifiedKFold(folds)\n",
    "\n",
    "    # Store Scoring Metric\n",
    "    train_scores = []\n",
    "    val_scores = []\n",
    "\n",
    "    print('# of samples:', number_samples)\n",
    "    for train_index, val_index in sss.split(train_x, train_y):\n",
    "\n",
    "        # Train and validation sets\n",
    "        partial_train_x, val_x = train_x.iloc[val_index, :], train_x.iloc[train_index, :]\n",
    "        partial_train_y, val_y = train_y[val_index], train_y[train_index]\n",
    "\n",
    "        # Build and Train Model\n",
    "        clf = model\n",
    "        clf.fit(partial_train_x, partial_train_y)\n",
    "\n",
    "        # Collect success metrics\n",
    "        train_score = clf.score(partial_train_x, partial_train_y)\n",
    "        train_scores.append(train_score)\n",
    "\n",
    "        val_score = clf.score(val_x, val_y)\n",
    "        val_scores.append(val_score)\n",
    "\n",
    "\n",
    "    # Get average scores from CV\n",
    "    avg_train = np.average(train_scores)\n",
    "    avg_val = np.average(val_scores)\n",
    "\n",
    "    # Append to final score lists\n",
    "    fold_train_scores.append(avg_train)\n",
    "    fold_val_scores.append(avg_val)\n",
    "    number_samples_list.append(number_samples)"
   ]
  },
  {
   "cell_type": "code",
   "execution_count": 178,
   "metadata": {},
   "outputs": [
    {
     "data": {
      "image/png": "[encoded data removed]",
      "text/plain": [
       "<Figure size 432x288 with 1 Axes>"
      ]
     },
     "metadata": {},
     "output_type": "display_data"
    }
   ],
   "source": [
    "'''# of Samples vs Accuracy Rate'''\n",
    "# Change title, xlabel, ylabel appropriately\n",
    "xlabel = '# of Samples in Training Set'\n",
    "ylabel = 'Accuracy'\n",
    "title = 'SVM'\n",
    "dataset = 'HIV1'\n",
    "\n",
    "plt.scatter(x=number_samples_list, y=fold_train_scores, label='Train')\n",
    "plt.scatter(x=number_samples_list, y=fold_val_scores, label='Validation')\n",
    "\n",
    "plt.xlabel(xlabel)\n",
    "plt.ylabel(ylabel)\n",
    "plt.title(title)\n",
    "plt.legend()\n",
    "\n",
    "# Saving plots\n",
    "plt.savefig(\"plots/\" + dataset + '_' + title + '_' + xlabel + \".png\")\n",
    "\n",
    "plt.show()"
   ]
  },
  {
   "cell_type": "markdown",
   "metadata": {},
   "source": [
    "#### MODEL COMPLEXITY"
   ]
  },
  {
   "cell_type": "code",
   "execution_count": 165,
   "metadata": {},
   "outputs": [
    {
     "name": "stdout",
     "output_type": "stream",
     "text": [
      "linear\n",
      "poly\n",
      "rbf\n",
      "sigmoid\n"
     ]
    }
   ],
   "source": [
    "'''MODEL COMPLEXITY CURVE'''\n",
    "'''Stratified Shuffle K-fold CV'''\n",
    "from sklearn.model_selection import StratifiedShuffleSplit, StratifiedKFold\n",
    "from sklearn.metrics import roc_curve, auc\n",
    "from sklearn.tree import DecisionTreeClassifier\n",
    "from sklearn.ensemble import AdaBoostClassifier\n",
    "from sklearn.neural_network import MLPClassifier\n",
    "from sklearn.svm import SVC\n",
    "from sklearn.neighbors import KNeighborsClassifier\n",
    "\n",
    "# For storing statistics for future plots\n",
    "hyperparameter_train_scores = []\n",
    "hyperparameter_val_scores = []\n",
    "hyperparameter_list = []\n",
    "\n",
    "# range(1, 30, 1)\n",
    "# range(1, 100, 1)\n",
    "# range(10, 300, 25)\n",
    "# [0.001, 0.005, 0.01, 0.025, 0.05, 0.10, 0.20]\n",
    "# ['linear', 'poly', 'rbf', 'sigmoid']\n",
    "# [0.05, 0.10, 0.25, 0.50, 1.0, 1.5, 2.0, 3.0]\n",
    "# range(1, 10, 1)\n",
    "\n",
    "for i in ['linear', 'poly', 'rbf', 'sigmoid']:                        \n",
    "    '''\n",
    "    Loop through a range of values for a particular hyperparameter\n",
    "    Collect success metric for each discrete hyperparameter value\n",
    "        - Must determine at what number of CV folds to choose\n",
    "    Plot the hyperparameters vs the success metric\n",
    "    '''\n",
    "    print(i)\n",
    "    \n",
    "    \n",
    "    '''MODEL BUILD HERE'''\n",
    "    # DecisionTreeClassifier(criterion='entropy', max_depth=i)\n",
    "    # AdaBoostClassifier(base_estimator=DecisionTreeClassifier(criterion='entropy', max_depth=5), n_estimators=i)\n",
    "    # MLPClassifier(hidden_layer_sizes=(160, 160), max_iter=60, learning_rate_init=i)\n",
    "    # SVC(kernel=i)\n",
    "    # KNeighborsClassifier(n_neighbors=i)\n",
    "    clf = SVC(kernel=i)\n",
    "    \n",
    "    # Get splits of CV\n",
    "    folds = 2                                   # CHANGE # of FOLDS HERE\n",
    "    sss = StratifiedKFold(folds)\n",
    "\n",
    "    # Store Scoring Metric\n",
    "    train_scores = []\n",
    "    val_scores = []\n",
    "\n",
    "    for train_index, val_index in sss.split(train_x, train_y):\n",
    "\n",
    "        # Train and validation sets\n",
    "        partial_train_x, val_x = train_x.iloc[train_index, :], train_x.iloc[val_index, :]\n",
    "        partial_train_y, val_y = train_y[train_index], train_y[val_index]\n",
    "\n",
    "        # Build and Train Model          \n",
    "        clf.fit(partial_train_x, partial_train_y)\n",
    "\n",
    "        # Collect success metrics\n",
    "        train_score = clf.score(partial_train_x, partial_train_y)\n",
    "        train_scores.append(train_score)\n",
    "\n",
    "        val_score = clf.score(val_x, val_y)\n",
    "        val_scores.append(val_score)\n",
    "\n",
    "\n",
    "    # Get average scores from CV\n",
    "    avg_train = np.average(train_scores)\n",
    "    avg_val = np.average(val_scores)\n",
    "\n",
    "    # Append to final score lists\n",
    "    hyperparameter_train_scores.append(avg_train)\n",
    "    hyperparameter_val_scores.append(avg_val)\n",
    "    hyperparameter_list.append(i)"
   ]
  },
  {
   "cell_type": "code",
   "execution_count": 176,
   "metadata": {},
   "outputs": [
    {
     "data": {
      "image/png": "[encoded data removed]",
      "text/plain": [
       "<Figure size 432x288 with 1 Axes>"
      ]
     },
     "metadata": {},
     "output_type": "display_data"
    }
   ],
   "source": [
    "'''hyperparameter vs Accuracy Rate'''\n",
    "# Change title, xlabel, ylabel appropriately\n",
    "xlabel = 'Kernels'\n",
    "ylabel = 'Accuracy'\n",
    "title = 'SVM'\n",
    "dataset = 'HIV1'\n",
    "\n",
    "sns.set()\n",
    "\n",
    "# ONLY FOR SVM KERNEL COMPARISON PLOTS\n",
    "plt.bar(x=hyperparameter_list, height=hyperparameter_train_scores,\n",
    "        width=-0.3, align='edge', label='Train')\n",
    "plt.bar(x=hyperparameter_list, height=hyperparameter_val_scores,\n",
    "        width=0.3, align='edge', label='Validation')\n",
    "\n",
    "# plt.scatter(x=hyperparameter_list, y=hyperparameter_train_scores, label='Train')\n",
    "# plt.scatter(x=hyperparameter_list, y=hyperparameter_val_scores, label='Validation')\n",
    "\n",
    "plt.xlabel(xlabel)\n",
    "plt.ylabel(ylabel)\n",
    "plt.title(title)\n",
    "\n",
    "plt.legend()\n",
    "\n",
    "# Saving plots\n",
    "plt.savefig(\"plots/\" + dataset + '_' + title + '_' + xlabel + \".png\")\n",
    "\n",
    "plt.show()"
   ]
  },
  {
   "cell_type": "markdown",
   "metadata": {},
   "source": [
    "#### TIME COMPLEXITY"
   ]
  },
  {
   "cell_type": "code",
   "execution_count": 225,
   "metadata": {},
   "outputs": [
    {
     "name": "stdout",
     "output_type": "stream",
     "text": [
      "10\n"
     ]
    },
    {
     "name": "stderr",
     "output_type": "stream",
     "text": [
      "/Users/jdemeo/miniconda3/envs/ml/lib/python3.6/site-packages/sklearn/neural_network/multilayer_perceptron.py:564: ConvergenceWarning: Stochastic Optimizer: Maximum iterations (10) reached and the optimization hasn't converged yet.\n",
      "  % self.max_iter, ConvergenceWarning)\n"
     ]
    },
    {
     "name": "stdout",
     "output_type": "stream",
     "text": [
      "20\n"
     ]
    },
    {
     "name": "stderr",
     "output_type": "stream",
     "text": [
      "/Users/jdemeo/miniconda3/envs/ml/lib/python3.6/site-packages/sklearn/neural_network/multilayer_perceptron.py:564: ConvergenceWarning: Stochastic Optimizer: Maximum iterations (20) reached and the optimization hasn't converged yet.\n",
      "  % self.max_iter, ConvergenceWarning)\n"
     ]
    },
    {
     "name": "stdout",
     "output_type": "stream",
     "text": [
      "30\n"
     ]
    },
    {
     "name": "stderr",
     "output_type": "stream",
     "text": [
      "/Users/jdemeo/miniconda3/envs/ml/lib/python3.6/site-packages/sklearn/neural_network/multilayer_perceptron.py:564: ConvergenceWarning: Stochastic Optimizer: Maximum iterations (30) reached and the optimization hasn't converged yet.\n",
      "  % self.max_iter, ConvergenceWarning)\n"
     ]
    },
    {
     "name": "stdout",
     "output_type": "stream",
     "text": [
      "40\n",
      "50\n",
      "60\n",
      "70\n",
      "80\n",
      "90\n",
      "100\n",
      "110\n",
      "120\n",
      "130\n",
      "140\n",
      "150\n",
      "160\n",
      "170\n",
      "180\n",
      "190\n",
      "200\n",
      "210\n",
      "220\n",
      "230\n",
      "240\n",
      "250\n",
      "260\n",
      "270\n",
      "280\n",
      "290\n"
     ]
    }
   ],
   "source": [
    "'''TIME COMPLEXITY CURVE'''\n",
    "from sklearn.model_selection import StratifiedShuffleSplit, StratifiedKFold\n",
    "from sklearn.metrics import roc_curve, auc\n",
    "from sklearn.tree import DecisionTreeClassifier\n",
    "from sklearn.ensemble import AdaBoostClassifier\n",
    "from sklearn.neural_network import MLPClassifier\n",
    "from sklearn.svm import SVC\n",
    "from sklearn.neighbors import KNeighborsClassifier\n",
    "import time\n",
    "\n",
    "# For storing statistics for future plots\n",
    "iteration_count = []\n",
    "time_elapsed = []\n",
    "\n",
    "for i in range(10, 300, 10):                        \n",
    "    '''\n",
    "    Loop through a range of values for a iterations\n",
    "    Collect time it takes per iteration\n",
    "    Plot the iteration vs time\n",
    "    '''\n",
    "    print(i)\n",
    "    iteration_count.append(i)\n",
    "    \n",
    "    '''MODEL BUILD HERE'''\n",
    "    # AdaBoostClassifier(base_estimator=DecisionTreeClassifier(max_depth=5), n_estimators=i)\n",
    "    # MLPClassifier(hidden_layer_sizes=(160, 160), learning_rate_init=0.001, max_iter=i)\n",
    "    # SVC(kernel='linear', max_iter=i)\n",
    "    clf = MLPClassifier(hidden_layer_sizes=(160, 160), learning_rate_init=0.001, max_iter=i)\n",
    "    \n",
    "    # START TIME\n",
    "    start = time.time()\n",
    "    \n",
    "    # Train on full dataset\n",
    "    clf.fit(train_x, train_y)\n",
    "    \n",
    "    # END TIME\n",
    "    end = time.time()\n",
    "    time_elapsed.append(end - start)"
   ]
  },
  {
   "cell_type": "code",
   "execution_count": 226,
   "metadata": {},
   "outputs": [
    {
     "data": {
      "image/png": "[encoded data removed]",
      "text/plain": [
       "<Figure size 432x288 with 1 Axes>"
      ]
     },
     "metadata": {},
     "output_type": "display_data"
    }
   ],
   "source": [
    "'''NUMBER OF ITERATIONS VS TIME'''\n",
    "# Change title, xlabel, ylabel appropriately\n",
    "xlabel = '# of Epochs'\n",
    "ylabel = 'time (sec)'\n",
    "title = 'MLP'\n",
    "dataset = 'HIV1'\n",
    "\n",
    "sns.set()\n",
    "\n",
    "plt.scatter(x=iteration_count, y=time_elapsed)\n",
    "\n",
    "plt.xlabel(xlabel)\n",
    "plt.ylabel(ylabel)\n",
    "plt.title(title)\n",
    "\n",
    "# Saving plots\n",
    "plt.savefig(\"plots/\" + dataset + '_' + title + '_' + xlabel + \"_time.png\")\n",
    "\n",
    "plt.show()"
   ]
  },
  {
   "cell_type": "code",
   "execution_count": 223,
   "metadata": {},
   "outputs": [
    {
     "name": "stdout",
     "output_type": "stream",
     "text": [
      "0.1\n",
      "0.2\n",
      "0.30000000000000004\n",
      "0.4\n",
      "0.5\n",
      "0.6000000000000001\n",
      "0.7000000000000001\n",
      "0.8\n",
      "0.9\n"
     ]
    }
   ],
   "source": [
    "'''TIME COMPLEXITY CURVES WITH VARYING SAMPLE SIZE'''\n",
    "from sklearn.model_selection import StratifiedShuffleSplit, StratifiedKFold\n",
    "from sklearn.metrics import roc_curve, auc\n",
    "from sklearn.tree import DecisionTreeClassifier\n",
    "from sklearn.ensemble import AdaBoostClassifier\n",
    "from sklearn.neural_network import MLPClassifier\n",
    "from sklearn.svm import SVC\n",
    "from sklearn.neighbors import KNeighborsClassifier\n",
    "import time\n",
    "\n",
    "# For storing statistics for future plots\n",
    "train_sample_size = []\n",
    "val_sample_size = []\n",
    "train_time_elapsed = []\n",
    "val_time_elapsed = []\n",
    "\n",
    "for i in [i * 0.1 for i in range(1, 10)]:                        \n",
    "    '''\n",
    "    Loop through a range of sample sizes\n",
    "    Calculate start and end times for test and training sets\n",
    "    Plot the sample size vs time\n",
    "    '''\n",
    "    print(i)\n",
    "    train_size = int(len(train_x) * i)\n",
    "    train_sample_size.append(train_size)\n",
    "    \n",
    "    # Create train/validation sets\n",
    "    partial_train_x = train_x[:train_size]\n",
    "    partial_train_y = train_y[:train_size]\n",
    "    val_x = train_x[train_size:]\n",
    "    val_y = train_y[train_size:]\n",
    "    \n",
    "    val_sample_size.append(len(val_y))\n",
    "    \n",
    "    '''MODEL BUILD HERE'''\n",
    "    # DecisionTreeClassifier(criterion='entropy', max_depth=9)\n",
    "    # AdaBoostClassifier(base_estimator=DecisionTreeClassifier(criterion='entropy', max_depth=5), n_estimators=25)\n",
    "    # MLPClassifier(hidden_layer_sizes=(160, 160), max_iter=35, learning_rate_init=0.001)\n",
    "    # SVC(kernel='linear')\n",
    "    # KNeighborsClassifier(n_neighbors=1)\n",
    "    clf = KNeighborsClassifier(n_neighbors=1)\n",
    "    \n",
    "    # TRAINING\n",
    "    # START TIME\n",
    "    start_train = time.time()\n",
    "    \n",
    "    # Train on full dataset\n",
    "    clf.fit(train_x, train_y)\n",
    "    \n",
    "    # END TIME\n",
    "    end_train = time.time()\n",
    "    train_time_elapsed.append(end_train - start_train)\n",
    "    \n",
    "    # VALIDATION\n",
    "    # START TIME\n",
    "    start_val = time.time()\n",
    "    \n",
    "    # Train on full dataset\n",
    "    clf.predict(val_x)\n",
    "    \n",
    "    # END TIME\n",
    "    end_val = time.time()\n",
    "    val_time_elapsed.append(end_val - start_val)"
   ]
  },
  {
   "cell_type": "code",
   "execution_count": 224,
   "metadata": {},
   "outputs": [
    {
     "data": {
      "image/png": "[encoded data removed]",
      "text/plain": [
       "<Figure size 432x288 with 1 Axes>"
      ]
     },
     "metadata": {},
     "output_type": "display_data"
    }
   ],
   "source": [
    "'''SAMPLE SIZE VS TIME'''\n",
    "# Change title, xlabel, ylabel appropriately\n",
    "xlabel = '# of samples'\n",
    "ylabel = 'time (sec)'\n",
    "title = 'KNN'\n",
    "dataset = 'HIV1'\n",
    "\n",
    "sns.set()\n",
    "\n",
    "plt.scatter(x=train_sample_size, y=train_time_elapsed, label='Train')\n",
    "plt.scatter(x=val_sample_size, y=val_time_elapsed, label='Validation')\n",
    "\n",
    "plt.xlabel(xlabel)\n",
    "plt.ylabel(ylabel)\n",
    "plt.title(title)\n",
    "plt.legend()\n",
    "\n",
    "# Saving plots\n",
    "plt.savefig(\"plots/\" + dataset + '_' + title + '_' + xlabel + \"_time.png\")\n",
    "\n",
    "plt.show()"
   ]
  },
  {
   "cell_type": "markdown",
   "metadata": {},
   "source": [
    "## FINAL MODEL BUILDS"
   ]
  },
  {
   "cell_type": "code",
   "execution_count": 181,
   "metadata": {},
   "outputs": [],
   "source": [
    "# Scorers\n",
    "from sklearn.metrics import confusion_matrix\n",
    "from sklearn.model_selection import cross_val_score"
   ]
  },
  {
   "cell_type": "markdown",
   "metadata": {},
   "source": [
    "#### Decision Tree"
   ]
  },
  {
   "cell_type": "code",
   "execution_count": 204,
   "metadata": {},
   "outputs": [
    {
     "name": "stdout",
     "output_type": "stream",
     "text": [
      "2-fold CV Accuracy: 0.9047633234990626\n",
      "Test Accuracy: 0.9185393258426966\n"
     ]
    },
    {
     "data": {
      "text/plain": [
       "array([[444,  25],\n",
       "       [ 33, 210]])"
      ]
     },
     "execution_count": 204,
     "metadata": {},
     "output_type": "execute_result"
    }
   ],
   "source": [
    "from sklearn.tree import DecisionTreeClassifier\n",
    "\n",
    "# Build Architecture\n",
    "clf = DecisionTreeClassifier(criterion='entropy',\n",
    "                             max_depth=9)\n",
    "\n",
    "print('2-fold CV Accuracy:', np.mean(cross_val_score(clf, train_x, train_y, cv=2)))\n",
    "\n",
    "clf.fit(train_x, train_y)\n",
    "\n",
    "pred = clf.predict(test_x)\n",
    "\n",
    "print('Test Accuracy:', clf.score(test_x, test_y))\n",
    "\n",
    "confusion_matrix(test_y, pred)"
   ]
  },
  {
   "cell_type": "markdown",
   "metadata": {},
   "source": [
    "#### AdaBoost"
   ]
  },
  {
   "cell_type": "code",
   "execution_count": 190,
   "metadata": {},
   "outputs": [
    {
     "name": "stdout",
     "output_type": "stream",
     "text": [
      "2-fold CV Accuracy: 0.929476652084817\n",
      "Test Accuracy: 0.9648876404494382\n"
     ]
    },
    {
     "data": {
      "text/plain": [
       "array([[451,  18],\n",
       "       [  7, 236]])"
      ]
     },
     "execution_count": 190,
     "metadata": {},
     "output_type": "execute_result"
    }
   ],
   "source": [
    "from sklearn.ensemble import AdaBoostClassifier\n",
    "\n",
    "# Build Architecture\n",
    "clf = AdaBoostClassifier(base_estimator=DecisionTreeClassifier(criterion='entropy', max_depth=5), \n",
    "                         n_estimators=25)\n",
    "\n",
    "print('2-fold CV Accuracy:', np.mean(cross_val_score(clf, train_x, train_y, cv=2)))\n",
    "\n",
    "clf.fit(train_x, train_y)\n",
    "\n",
    "pred = clf.predict(test_x)\n",
    "\n",
    "print('Test Accuracy:', clf.score(test_x, test_y))\n",
    "\n",
    "confusion_matrix(test_y, pred)"
   ]
  },
  {
   "cell_type": "markdown",
   "metadata": {},
   "source": [
    "#### Multi-Layer Perceptron (MLP)"
   ]
  },
  {
   "cell_type": "code",
   "execution_count": 191,
   "metadata": {},
   "outputs": [
    {
     "name": "stderr",
     "output_type": "stream",
     "text": [
      "/Users/jdemeo/miniconda3/envs/ml/lib/python3.6/site-packages/sklearn/neural_network/multilayer_perceptron.py:564: ConvergenceWarning: Stochastic Optimizer: Maximum iterations (35) reached and the optimization hasn't converged yet.\n",
      "  % self.max_iter, ConvergenceWarning)\n",
      "/Users/jdemeo/miniconda3/envs/ml/lib/python3.6/site-packages/sklearn/neural_network/multilayer_perceptron.py:564: ConvergenceWarning: Stochastic Optimizer: Maximum iterations (35) reached and the optimization hasn't converged yet.\n",
      "  % self.max_iter, ConvergenceWarning)\n"
     ]
    },
    {
     "name": "stdout",
     "output_type": "stream",
     "text": [
      "2-fold CV Accuracy: 0.9457438923365356\n",
      "Test Accuracy: 0.976123595505618\n"
     ]
    },
    {
     "name": "stderr",
     "output_type": "stream",
     "text": [
      "/Users/jdemeo/miniconda3/envs/ml/lib/python3.6/site-packages/sklearn/neural_network/multilayer_perceptron.py:564: ConvergenceWarning: Stochastic Optimizer: Maximum iterations (35) reached and the optimization hasn't converged yet.\n",
      "  % self.max_iter, ConvergenceWarning)\n"
     ]
    },
    {
     "data": {
      "text/plain": [
       "array([[458,  11],\n",
       "       [  6, 237]])"
      ]
     },
     "execution_count": 191,
     "metadata": {},
     "output_type": "execute_result"
    }
   ],
   "source": [
    "from sklearn.neural_network import MLPClassifier\n",
    "\n",
    "# Build Architecture\n",
    "clf = MLPClassifier(hidden_layer_sizes=(160, 160), max_iter=35, \n",
    "                    learning_rate_init=0.001)\n",
    "\n",
    "print('2-fold CV Accuracy:', np.mean(cross_val_score(clf, train_x, train_y, cv=2)))\n",
    "\n",
    "clf.fit(train_x, train_y)\n",
    "\n",
    "pred = clf.predict(test_x)\n",
    "\n",
    "print('Test Accuracy:', clf.score(test_x, test_y))\n",
    "\n",
    "confusion_matrix(test_y, pred)"
   ]
  },
  {
   "cell_type": "markdown",
   "metadata": {},
   "source": [
    "#### SVM\n",
    "- Kernel: rbf, linear, poly, sigmoid"
   ]
  },
  {
   "cell_type": "code",
   "execution_count": 192,
   "metadata": {},
   "outputs": [
    {
     "name": "stdout",
     "output_type": "stream",
     "text": [
      "2-fold CV Accuracy: 0.9336884328629355\n",
      "Test Accuracy: 0.9606741573033708\n"
     ]
    },
    {
     "data": {
      "text/plain": [
       "array([[451,  18],\n",
       "       [ 10, 233]])"
      ]
     },
     "execution_count": 192,
     "metadata": {},
     "output_type": "execute_result"
    }
   ],
   "source": [
    "from sklearn.svm import SVC\n",
    "\n",
    "# Build Architecture\n",
    "clf = SVC(kernel='linear')\n",
    "\n",
    "print('2-fold CV Accuracy:', np.mean(cross_val_score(clf, train_x, train_y, cv=2)))\n",
    "\n",
    "clf.fit(train_x, train_y)\n",
    "\n",
    "pred = clf.predict(test_x)\n",
    "\n",
    "print('Test Accuracy:', clf.score(test_x, test_y))\n",
    "\n",
    "confusion_matrix(test_y, pred)"
   ]
  },
  {
   "cell_type": "markdown",
   "metadata": {},
   "source": [
    "#### KNN"
   ]
  },
  {
   "cell_type": "code",
   "execution_count": 198,
   "metadata": {},
   "outputs": [
    {
     "name": "stdout",
     "output_type": "stream",
     "text": [
      "2-fold CV Accuracy: 0.872209222898833\n",
      "Test Accuracy: 0.9087078651685393\n"
     ]
    },
    {
     "data": {
      "text/plain": [
       "array([[413,  56],\n",
       "       [  9, 234]])"
      ]
     },
     "execution_count": 198,
     "metadata": {},
     "output_type": "execute_result"
    }
   ],
   "source": [
    "from sklearn.neighbors import KNeighborsClassifier\n",
    "\n",
    "# Build Architecture\n",
    "clf = KNeighborsClassifier(n_neighbors=1)\n",
    "\n",
    "print('2-fold CV Accuracy:', np.mean(cross_val_score(clf, train_x, train_y, cv=2)))\n",
    "\n",
    "clf.fit(train_x, train_y)\n",
    "\n",
    "pred = clf.predict(test_x)\n",
    "\n",
    "print('Test Accuracy:', clf.score(test_x, test_y))\n",
    "\n",
    "confusion_matrix(test_y, pred)"
   ]
  },
  {
   "cell_type": "code",
   "execution_count": null,
   "metadata": {},
   "outputs": [],
   "source": []
  }
 ],
 "metadata": {
  "kernelspec": {
   "display_name": "ML",
   "language": "python",
   "name": "ml"
  },
  "language_info": {
   "codemirror_mode": {
    "name": "ipython",
    "version": 3
   },
   "file_extension": ".py",
   "mimetype": "text/x-python",
   "name": "python",
   "nbconvert_exporter": "python",
   "pygments_lexer": "ipython3",
   "version": "3.6.6"
  }
 },
 "nbformat": 4,
 "nbformat_minor": 2
}
