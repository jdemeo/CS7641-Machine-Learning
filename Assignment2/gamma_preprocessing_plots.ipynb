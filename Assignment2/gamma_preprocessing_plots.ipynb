{
 "cells": [
  {
   "cell_type": "code",
   "execution_count": 2,
   "metadata": {},
   "outputs": [],
   "source": [
    "import pandas as pd\n",
    "import numpy as np\n",
    "import matplotlib.pyplot as plt\n",
    "import seaborn as sns"
   ]
  },
  {
   "cell_type": "code",
   "execution_count": 6,
   "metadata": {},
   "outputs": [
    {
     "data": {
      "text/html": [
       "<div>\n",
       "<style scoped>\n",
       "    .dataframe tbody tr th:only-of-type {\n",
       "        vertical-align: middle;\n",
       "    }\n",
       "\n",
       "    .dataframe tbody tr th {\n",
       "        vertical-align: top;\n",
       "    }\n",
       "\n",
       "    .dataframe thead th {\n",
       "        text-align: right;\n",
       "    }\n",
       "</style>\n",
       "<table border=\"1\" class=\"dataframe\">\n",
       "  <thead>\n",
       "    <tr style=\"text-align: right;\">\n",
       "      <th></th>\n",
       "      <th>0</th>\n",
       "      <th>1</th>\n",
       "      <th>2</th>\n",
       "      <th>3</th>\n",
       "      <th>4</th>\n",
       "      <th>5</th>\n",
       "      <th>6</th>\n",
       "      <th>7</th>\n",
       "      <th>8</th>\n",
       "      <th>9</th>\n",
       "      <th>10</th>\n",
       "    </tr>\n",
       "  </thead>\n",
       "  <tbody>\n",
       "    <tr>\n",
       "      <th>0</th>\n",
       "      <td>28.7967</td>\n",
       "      <td>16.0021</td>\n",
       "      <td>2.6449</td>\n",
       "      <td>0.3918</td>\n",
       "      <td>0.1982</td>\n",
       "      <td>27.7004</td>\n",
       "      <td>22.0110</td>\n",
       "      <td>-8.2027</td>\n",
       "      <td>40.0920</td>\n",
       "      <td>81.8828</td>\n",
       "      <td>g</td>\n",
       "    </tr>\n",
       "    <tr>\n",
       "      <th>1</th>\n",
       "      <td>31.6036</td>\n",
       "      <td>11.7235</td>\n",
       "      <td>2.5185</td>\n",
       "      <td>0.5303</td>\n",
       "      <td>0.3773</td>\n",
       "      <td>26.2722</td>\n",
       "      <td>23.8238</td>\n",
       "      <td>-9.9574</td>\n",
       "      <td>6.3609</td>\n",
       "      <td>205.2610</td>\n",
       "      <td>g</td>\n",
       "    </tr>\n",
       "    <tr>\n",
       "      <th>2</th>\n",
       "      <td>162.0520</td>\n",
       "      <td>136.0310</td>\n",
       "      <td>4.0612</td>\n",
       "      <td>0.0374</td>\n",
       "      <td>0.0187</td>\n",
       "      <td>116.7410</td>\n",
       "      <td>-64.8580</td>\n",
       "      <td>-45.2160</td>\n",
       "      <td>76.9600</td>\n",
       "      <td>256.7880</td>\n",
       "      <td>g</td>\n",
       "    </tr>\n",
       "    <tr>\n",
       "      <th>3</th>\n",
       "      <td>23.8172</td>\n",
       "      <td>9.5728</td>\n",
       "      <td>2.3385</td>\n",
       "      <td>0.6147</td>\n",
       "      <td>0.3922</td>\n",
       "      <td>27.2107</td>\n",
       "      <td>-6.4633</td>\n",
       "      <td>-7.1513</td>\n",
       "      <td>10.4490</td>\n",
       "      <td>116.7370</td>\n",
       "      <td>g</td>\n",
       "    </tr>\n",
       "    <tr>\n",
       "      <th>4</th>\n",
       "      <td>75.1362</td>\n",
       "      <td>30.9205</td>\n",
       "      <td>3.1611</td>\n",
       "      <td>0.3168</td>\n",
       "      <td>0.1832</td>\n",
       "      <td>-5.5277</td>\n",
       "      <td>28.5525</td>\n",
       "      <td>21.8393</td>\n",
       "      <td>4.6480</td>\n",
       "      <td>356.4620</td>\n",
       "      <td>g</td>\n",
       "    </tr>\n",
       "  </tbody>\n",
       "</table>\n",
       "</div>"
      ],
      "text/plain": [
       "         0         1       2       3       4         5        6        7   \\\n",
       "0   28.7967   16.0021  2.6449  0.3918  0.1982   27.7004  22.0110  -8.2027   \n",
       "1   31.6036   11.7235  2.5185  0.5303  0.3773   26.2722  23.8238  -9.9574   \n",
       "2  162.0520  136.0310  4.0612  0.0374  0.0187  116.7410 -64.8580 -45.2160   \n",
       "3   23.8172    9.5728  2.3385  0.6147  0.3922   27.2107  -6.4633  -7.1513   \n",
       "4   75.1362   30.9205  3.1611  0.3168  0.1832   -5.5277  28.5525  21.8393   \n",
       "\n",
       "        8         9  10  \n",
       "0  40.0920   81.8828  g  \n",
       "1   6.3609  205.2610  g  \n",
       "2  76.9600  256.7880  g  \n",
       "3  10.4490  116.7370  g  \n",
       "4   4.6480  356.4620  g  "
      ]
     },
     "execution_count": 6,
     "metadata": {},
     "output_type": "execute_result"
    }
   ],
   "source": [
    "df = pd.read_csv('datasets/magic/dataset.csv', header=None)\n",
    "df.head()"
   ]
  },
  {
   "cell_type": "code",
   "execution_count": 7,
   "metadata": {},
   "outputs": [
    {
     "name": "stdout",
     "output_type": "stream",
     "text": [
      "(19020, 11)\n"
     ]
    }
   ],
   "source": [
    "print(df.shape)"
   ]
  },
  {
   "cell_type": "code",
   "execution_count": 8,
   "metadata": {},
   "outputs": [
    {
     "data": {
      "text/plain": [
       "g    12332\n",
       "h     6688\n",
       "Name: 10, dtype: int64"
      ]
     },
     "execution_count": 8,
     "metadata": {},
     "output_type": "execute_result"
    }
   ],
   "source": [
    "df[10].value_counts()"
   ]
  },
  {
   "cell_type": "code",
   "execution_count": 9,
   "metadata": {},
   "outputs": [],
   "source": [
    "data_x = df.iloc[:, :-1]\n",
    "data_y = df.iloc[:, -1]"
   ]
  },
  {
   "cell_type": "code",
   "execution_count": 10,
   "metadata": {},
   "outputs": [],
   "source": [
    "from sklearn.model_selection import train_test_split\n",
    "from sklearn.preprocessing import MinMaxScaler\n",
    "\n",
    "# Random Train/Test Split\n",
    "train_x, test_x, train_y, test_y = train_test_split(data_x, data_y,\n",
    "                                                    test_size=0.50, \n",
    "                                                    shuffle=True,\n",
    "                                                    random_state=42)\n",
    "\n",
    "# Normalization of features\n",
    "min_max_scaler = MinMaxScaler()\n",
    "train_x = min_max_scaler.fit_transform(train_x)\n",
    "test_x = min_max_scaler.transform(test_x)\n",
    "\n",
    "# Create DataFrame from Numpy array\n",
    "train_x = pd.DataFrame(train_x)\n",
    "test_x = pd.DataFrame(test_x)\n",
    "\n",
    "# Prevents issues with CV\n",
    "train_x.reset_index(drop=True, inplace=True)\n",
    "test_x.reset_index(drop=True, inplace=True)\n",
    "train_y.reset_index(drop=True, inplace=True)\n",
    "test_y.reset_index(drop=True, inplace=True)"
   ]
  },
  {
   "cell_type": "code",
   "execution_count": 11,
   "metadata": {},
   "outputs": [
    {
     "name": "stdout",
     "output_type": "stream",
     "text": [
      "g    6154\n",
      "h    3356\n",
      "Name: 10, dtype: int64\n",
      "g    6178\n",
      "h    3332\n",
      "Name: 10, dtype: int64\n"
     ]
    }
   ],
   "source": [
    "print(train_y.value_counts())\n",
    "print(test_y.value_counts())"
   ]
  },
  {
   "cell_type": "code",
   "execution_count": 13,
   "metadata": {},
   "outputs": [],
   "source": [
    "train = pd.concat([train_x, train_y], axis=1)\n",
    "validation = pd.concat([test_x, test_y], axis=1)\n",
    "\n",
    "train.to_csv('gamma_train.csv', index=False)\n",
    "validation.to_csv('gamma_test.csv', index=False)"
   ]
  },
  {
   "cell_type": "markdown",
   "metadata": {},
   "source": [
    "## Post-processing of metric data\n",
    "### Neural Network Plots"
   ]
  },
  {
   "cell_type": "code",
   "execution_count": 279,
   "metadata": {},
   "outputs": [
    {
     "data": {
      "text/html": [
       "<div>\n",
       "<style scoped>\n",
       "    .dataframe tbody tr th:only-of-type {\n",
       "        vertical-align: middle;\n",
       "    }\n",
       "\n",
       "    .dataframe tbody tr th {\n",
       "        vertical-align: top;\n",
       "    }\n",
       "\n",
       "    .dataframe thead th {\n",
       "        text-align: right;\n",
       "    }\n",
       "</style>\n",
       "<table border=\"1\" class=\"dataframe\">\n",
       "  <thead>\n",
       "    <tr style=\"text-align: right;\">\n",
       "      <th></th>\n",
       "      <th>Train Accuracy</th>\n",
       "      <th>Train Time</th>\n",
       "      <th>Test Accuracy</th>\n",
       "      <th>Test Time</th>\n",
       "    </tr>\n",
       "  </thead>\n",
       "  <tbody>\n",
       "    <tr>\n",
       "      <th>0</th>\n",
       "      <td>34.926393</td>\n",
       "      <td>0.5425</td>\n",
       "      <td>64.837014</td>\n",
       "      <td>0.0230</td>\n",
       "    </tr>\n",
       "    <tr>\n",
       "      <th>1</th>\n",
       "      <td>64.863302</td>\n",
       "      <td>0.5310</td>\n",
       "      <td>64.837014</td>\n",
       "      <td>0.0230</td>\n",
       "    </tr>\n",
       "    <tr>\n",
       "      <th>2</th>\n",
       "      <td>61.671924</td>\n",
       "      <td>0.5280</td>\n",
       "      <td>65.215563</td>\n",
       "      <td>0.0235</td>\n",
       "    </tr>\n",
       "    <tr>\n",
       "      <th>3</th>\n",
       "      <td>64.837014</td>\n",
       "      <td>0.5190</td>\n",
       "      <td>65.215563</td>\n",
       "      <td>0.0225</td>\n",
       "    </tr>\n",
       "    <tr>\n",
       "      <th>4</th>\n",
       "      <td>50.178759</td>\n",
       "      <td>0.5240</td>\n",
       "      <td>65.226078</td>\n",
       "      <td>0.0215</td>\n",
       "    </tr>\n",
       "  </tbody>\n",
       "</table>\n",
       "</div>"
      ],
      "text/plain": [
       "   Train Accuracy  Train Time  Test Accuracy  Test Time\n",
       "0       34.926393      0.5425      64.837014     0.0230\n",
       "1       64.863302      0.5310      64.837014     0.0230\n",
       "2       61.671924      0.5280      65.215563     0.0235\n",
       "3       64.837014      0.5190      65.215563     0.0225\n",
       "4       50.178759      0.5240      65.226078     0.0215"
      ]
     },
     "execution_count": 279,
     "metadata": {},
     "output_type": "execute_result"
    }
   ],
   "source": [
    "# Combine folds from cross validation\n",
    "f1 = pd.read_csv('metrics/GA_f1.csv', header=None)\n",
    "f2 = pd.read_csv('metrics/GA_f2.csv', header=None)\n",
    "f1 = f1.T\n",
    "f2 = f2.T\n",
    "\n",
    "# Combine dataframes and calculate mean for each row\n",
    "combo = pd.concat([f1, f2])\n",
    "by_row_index = combo.groupby(combo.index)\n",
    "opt_algo = by_row_index.mean()\n",
    "opt_algo = opt_algo.rename(columns={0: 'Train Accuracy', 1: 'Train Time',\n",
    "                          2: 'Test Accuracy', 3: 'Test Time'})\n",
    "opt_algo.head()"
   ]
  },
  {
   "cell_type": "code",
   "execution_count": 280,
   "metadata": {},
   "outputs": [],
   "source": [
    "# Time processing\n",
    "train_time = opt_algo.loc[:, 'Train Time']\n",
    "test_time = opt_algo.loc[:, 'Test Time']\n",
    "new_train_time = []\n",
    "new_test_time = []\n",
    "\n",
    "'''\n",
    "Need to add up times over time for each iteration\n",
    "'''\n",
    "\n",
    "for i, time in enumerate(train_time):\n",
    "    if i == 0:\n",
    "        new_train_time.append(time)\n",
    "    else:\n",
    "        # Add previous and current times\n",
    "        new_train_time.append(new_train_time[i - 1] + time)\n",
    "        \n",
    "for i, time in enumerate(test_time):\n",
    "    if i == 0:\n",
    "        new_test_time.append(time)\n",
    "    else:\n",
    "        # Add previous and current times\n",
    "        new_test_time.append(new_test_time[i - 1] + time)"
   ]
  },
  {
   "cell_type": "code",
   "execution_count": 281,
   "metadata": {},
   "outputs": [
    {
     "data": {
      "image/png": "[encoded data removed]",
      "text/plain": [
       "<Figure size 504x504 with 1 Axes>"
      ]
     },
     "metadata": {},
     "output_type": "display_data"
    }
   ],
   "source": [
    "'''# of Iterations vs Accuracy Rate'''\n",
    "iterations = [i for i in range(1, len(opt_algo) + 1, 20)]\n",
    "train_acc = opt_algo.loc[:, 'Train Accuracy'][::20]\n",
    "test_acc = opt_algo.loc[:, 'Test Accuracy'][::20]\n",
    "\n",
    "# Change title, xlabel, ylabel appropriately\n",
    "xlabel = '# of Iterations'\n",
    "ylabel = 'Accuracy'\n",
    "title = 'Genetic Algorithm'\n",
    "\n",
    "sns.set()\n",
    "plt.figure(figsize=(7,7))\n",
    "plt.scatter(x=iterations, y=train_acc, label='Train', alpha=0.8, s=12)\n",
    "plt.scatter(x=iterations, y=test_acc, label='Validation', alpha=0.8, s=12)\n",
    "\n",
    "plt.xlabel(xlabel, fontsize=14)\n",
    "plt.ylabel(ylabel, fontsize=14)\n",
    "plt.title(title, fontsize=16)\n",
    "plt.legend(fontsize=14)\n",
    "\n",
    "# Saving plots\n",
    "plt.savefig(\"plots/\" + title + '_' + xlabel + '_' + ylabel + \".png\")\n",
    "\n",
    "plt.show()"
   ]
  },
  {
   "cell_type": "code",
   "execution_count": 282,
   "metadata": {},
   "outputs": [
    {
     "data": {
      "image/png": "[encoded data removed]",
      "text/plain": [
       "<Figure size 504x504 with 1 Axes>"
      ]
     },
     "metadata": {},
     "output_type": "display_data"
    }
   ],
   "source": [
    "'''# of Iterations vs Time'''\n",
    "final_train_time = new_train_time[::20]\n",
    "final_test_time = new_test_time[::20]\n",
    "\n",
    "# Change title, xlabel, ylabel appropriately\n",
    "xlabel = '# of Iterations'\n",
    "ylabel = 'Time (sec)'\n",
    "\n",
    "sns.set()\n",
    "plt.figure(figsize=(7,7))\n",
    "plt.scatter(x=iterations, y=final_train_time, label='Train', alpha=0.8, s=12)\n",
    "plt.scatter(x=iterations, y=final_test_time, label='Validation', alpha=0.8, s=12)\n",
    "\n",
    "plt.xlabel(xlabel, fontsize=14)\n",
    "plt.ylabel(ylabel, fontsize=14)\n",
    "plt.title(title, fontsize=16)\n",
    "plt.legend(fontsize=14)\n",
    "\n",
    "# Saving plots\n",
    "plt.savefig(\"plots/\" + title + '_' + xlabel + '_' + ylabel + \".png\")\n",
    "\n",
    "plt.show()"
   ]
  },
  {
   "cell_type": "markdown",
   "metadata": {},
   "source": [
    "## OPTIMIZATION PROBLEMS"
   ]
  },
  {
   "cell_type": "code",
   "execution_count": 246,
   "metadata": {},
   "outputs": [
    {
     "data": {
      "text/html": [
       "<div>\n",
       "<style scoped>\n",
       "    .dataframe tbody tr th:only-of-type {\n",
       "        vertical-align: middle;\n",
       "    }\n",
       "\n",
       "    .dataframe tbody tr th {\n",
       "        vertical-align: top;\n",
       "    }\n",
       "\n",
       "    .dataframe thead th {\n",
       "        text-align: right;\n",
       "    }\n",
       "</style>\n",
       "<table border=\"1\" class=\"dataframe\">\n",
       "  <thead>\n",
       "    <tr style=\"text-align: right;\">\n",
       "      <th></th>\n",
       "      <th>RHC Accuracy</th>\n",
       "      <th>RHC Time</th>\n",
       "      <th>SA Accuracy</th>\n",
       "      <th>SA Time</th>\n",
       "      <th>GA Accuracy</th>\n",
       "      <th>GA Time</th>\n",
       "      <th>MIMIC Accuracy</th>\n",
       "      <th>MIMIC Time</th>\n",
       "    </tr>\n",
       "  </thead>\n",
       "  <tbody>\n",
       "    <tr>\n",
       "      <th>95</th>\n",
       "      <td>0.082821</td>\n",
       "      <td>0.000</td>\n",
       "      <td>0.038549</td>\n",
       "      <td>0.000</td>\n",
       "      <td>0.152964</td>\n",
       "      <td>3.627</td>\n",
       "      <td>0.107872</td>\n",
       "      <td>17.388</td>\n",
       "    </tr>\n",
       "    <tr>\n",
       "      <th>96</th>\n",
       "      <td>0.093383</td>\n",
       "      <td>0.000</td>\n",
       "      <td>0.037516</td>\n",
       "      <td>0.001</td>\n",
       "      <td>0.155681</td>\n",
       "      <td>3.649</td>\n",
       "      <td>0.122263</td>\n",
       "      <td>17.545</td>\n",
       "    </tr>\n",
       "    <tr>\n",
       "      <th>97</th>\n",
       "      <td>0.111930</td>\n",
       "      <td>0.001</td>\n",
       "      <td>0.037203</td>\n",
       "      <td>0.000</td>\n",
       "      <td>0.154711</td>\n",
       "      <td>3.665</td>\n",
       "      <td>0.102040</td>\n",
       "      <td>17.878</td>\n",
       "    </tr>\n",
       "    <tr>\n",
       "      <th>98</th>\n",
       "      <td>0.099110</td>\n",
       "      <td>0.001</td>\n",
       "      <td>0.036701</td>\n",
       "      <td>0.000</td>\n",
       "      <td>0.144502</td>\n",
       "      <td>3.717</td>\n",
       "      <td>0.118606</td>\n",
       "      <td>17.907</td>\n",
       "    </tr>\n",
       "    <tr>\n",
       "      <th>99</th>\n",
       "      <td>0.094410</td>\n",
       "      <td>0.001</td>\n",
       "      <td>0.040894</td>\n",
       "      <td>0.000</td>\n",
       "      <td>0.155066</td>\n",
       "      <td>3.874</td>\n",
       "      <td>0.098389</td>\n",
       "      <td>18.023</td>\n",
       "    </tr>\n",
       "  </tbody>\n",
       "</table>\n",
       "</div>"
      ],
      "text/plain": [
       "    RHC Accuracy  RHC Time  SA Accuracy  SA Time  GA Accuracy  GA Time  \\\n",
       "95      0.082821     0.000     0.038549    0.000     0.152964    3.627   \n",
       "96      0.093383     0.000     0.037516    0.001     0.155681    3.649   \n",
       "97      0.111930     0.001     0.037203    0.000     0.154711    3.665   \n",
       "98      0.099110     0.001     0.036701    0.000     0.144502    3.717   \n",
       "99      0.094410     0.001     0.040894    0.000     0.155066    3.874   \n",
       "\n",
       "    MIMIC Accuracy  MIMIC Time  \n",
       "95        0.107872      17.388  \n",
       "96        0.122263      17.545  \n",
       "97        0.102040      17.878  \n",
       "98        0.118606      17.907  \n",
       "99        0.098389      18.023  "
      ]
     },
     "execution_count": 246,
     "metadata": {},
     "output_type": "execute_result"
    }
   ],
   "source": [
    "df = pd.read_csv('metrics/tsm_1000.csv', header=None)\n",
    "df = df.T\n",
    "df = df.rename(columns={0: 'RHC Accuracy', 1: 'RHC Time',\n",
    "                        2: 'SA Accuracy', 3: 'SA Time',\n",
    "                        4: 'GA Accuracy', 5: 'GA Time',\n",
    "                        6: 'MIMIC Accuracy', 7: 'MIMIC Time',})\n",
    "df.tail()"
   ]
  },
  {
   "cell_type": "code",
   "execution_count": 248,
   "metadata": {},
   "outputs": [
    {
     "data": {
      "text/plain": [
       "(100, 8)"
      ]
     },
     "execution_count": 248,
     "metadata": {},
     "output_type": "execute_result"
    }
   ],
   "source": [
    "df.shape"
   ]
  },
  {
   "cell_type": "code",
   "execution_count": 249,
   "metadata": {},
   "outputs": [
    {
     "data": {
      "image/png": "[encoded data removed]",
      "text/plain": [
       "<Figure size 504x504 with 1 Axes>"
      ]
     },
     "metadata": {},
     "output_type": "display_data"
    }
   ],
   "source": [
    "'''# of Iterations vs Metric'''\n",
    "# Change Metrics and number of iterations appropriately\n",
    "iterations1 = [i for i in range(1, 1001, 5)]   # Knapsack\n",
    "iterations2 = [i for i in range(1, 1001, 10)]  # Fourpeaks, TSM\n",
    "rhc_acc = df.loc[:, 'RHC Accuracy']\n",
    "sa_acc = df.loc[:, 'SA Accuracy']\n",
    "ga_acc = df.loc[:, 'GA Accuracy']\n",
    "mimic_acc = df.loc[:, 'MIMIC Accuracy']\n",
    "x = iterations2\n",
    "\n",
    "# Change title, xlabel, ylabel appropriately\n",
    "xlabel = '# of Iterations'\n",
    "ylabel = 'Fitness'\n",
    "title = 'Optimization Algorithm Performance'\n",
    "problem = 'TSM'\n",
    "\n",
    "sns.set()\n",
    "plt.figure(figsize=(7,7))\n",
    "plt.scatter(x=x, y=rhc_acc, label='RHC', alpha=0.8, s=12)\n",
    "plt.scatter(x=x, y=sa_acc, label='SA', alpha=0.8, s=12)\n",
    "plt.scatter(x=x, y=ga_acc, label='GA', alpha=0.8, s=12)\n",
    "plt.scatter(x=x, y=mimic_acc, label='MIMIC', alpha=0.8, s=12)\n",
    "\n",
    "plt.xlabel(xlabel, fontsize=14)\n",
    "plt.ylabel(ylabel, fontsize=14)\n",
    "plt.title(title, fontsize=16)\n",
    "plt.legend(fontsize=14)\n",
    "\n",
    "# Saving plots\n",
    "plt.savefig(\"plots/\" + problem + '_' + title + '_' + \".png\")\n",
    "\n",
    "plt.show()"
   ]
  },
  {
   "cell_type": "code",
   "execution_count": 250,
   "metadata": {},
   "outputs": [
    {
     "data": {
      "image/png": "[encoded data removed]",
      "text/plain": [
       "<Figure size 504x504 with 1 Axes>"
      ]
     },
     "metadata": {},
     "output_type": "display_data"
    }
   ],
   "source": [
    "'''# of Iterations vs Time'''\n",
    "# Change Metrics and number of iterations appropriately\n",
    "rhc_time = df.loc[:, 'RHC Time']\n",
    "sa_time = df.loc[:, 'SA Time']\n",
    "ga_time = df.loc[:, 'GA Time']\n",
    "mimic_time = df.loc[:, 'MIMIC Time']\n",
    "\n",
    "# Change title, xlabel, ylabel appropriately\n",
    "title = 'Training Time'\n",
    "xlabel = '# of Iterations'\n",
    "ylabel = 'Time (sec)'\n",
    "\n",
    "sns.set()\n",
    "plt.figure(figsize=(7,7))\n",
    "plt.scatter(x=x, y=rhc_time, label='RHC', alpha=0.8, s=12)\n",
    "plt.scatter(x=x, y=sa_time, label='SA', alpha=0.8, s=12)\n",
    "plt.scatter(x=x, y=ga_time, label='GA', alpha=0.8, s=12)\n",
    "plt.scatter(x=x, y=mimic_time, label='MIMIC', alpha=0.8, s=12)\n",
    "\n",
    "plt.xlabel(xlabel, fontsize=14)\n",
    "plt.ylabel(ylabel, fontsize=14)\n",
    "plt.title(title, fontsize=16)\n",
    "plt.legend(fontsize=14)\n",
    "\n",
    "# Saving plots\n",
    "plt.savefig(\"plots/\" + problem + '_' + title + '_' + \".png\")\n",
    "\n",
    "plt.show()"
   ]
  },
  {
   "cell_type": "markdown",
   "metadata": {},
   "source": [
    "### Subgroup Plots"
   ]
  },
  {
   "cell_type": "code",
   "execution_count": 251,
   "metadata": {},
   "outputs": [
    {
     "data": {
      "text/html": [
       "<div>\n",
       "<style scoped>\n",
       "    .dataframe tbody tr th:only-of-type {\n",
       "        vertical-align: middle;\n",
       "    }\n",
       "\n",
       "    .dataframe tbody tr th {\n",
       "        vertical-align: top;\n",
       "    }\n",
       "\n",
       "    .dataframe thead th {\n",
       "        text-align: right;\n",
       "    }\n",
       "</style>\n",
       "<table border=\"1\" class=\"dataframe\">\n",
       "  <thead>\n",
       "    <tr style=\"text-align: right;\">\n",
       "      <th></th>\n",
       "      <th>RHC Accuracy</th>\n",
       "      <th>RHC Time</th>\n",
       "      <th>SA Accuracy</th>\n",
       "      <th>SA Time</th>\n",
       "      <th>GA Accuracy</th>\n",
       "      <th>GA Time</th>\n",
       "    </tr>\n",
       "  </thead>\n",
       "  <tbody>\n",
       "    <tr>\n",
       "      <th>45</th>\n",
       "      <td>0.131822</td>\n",
       "      <td>0.016</td>\n",
       "      <td>0.143872</td>\n",
       "      <td>0.017</td>\n",
       "      <td>0.152230</td>\n",
       "      <td>173.589</td>\n",
       "    </tr>\n",
       "    <tr>\n",
       "      <th>46</th>\n",
       "      <td>0.118917</td>\n",
       "      <td>0.019</td>\n",
       "      <td>0.130866</td>\n",
       "      <td>0.017</td>\n",
       "      <td>0.153069</td>\n",
       "      <td>171.028</td>\n",
       "    </tr>\n",
       "    <tr>\n",
       "      <th>47</th>\n",
       "      <td>0.132077</td>\n",
       "      <td>0.016</td>\n",
       "      <td>0.127226</td>\n",
       "      <td>0.018</td>\n",
       "      <td>0.152932</td>\n",
       "      <td>171.564</td>\n",
       "    </tr>\n",
       "    <tr>\n",
       "      <th>48</th>\n",
       "      <td>0.125149</td>\n",
       "      <td>0.017</td>\n",
       "      <td>0.127661</td>\n",
       "      <td>0.018</td>\n",
       "      <td>0.160977</td>\n",
       "      <td>173.848</td>\n",
       "    </tr>\n",
       "    <tr>\n",
       "      <th>49</th>\n",
       "      <td>0.144654</td>\n",
       "      <td>0.017</td>\n",
       "      <td>0.120175</td>\n",
       "      <td>0.018</td>\n",
       "      <td>0.155621</td>\n",
       "      <td>183.025</td>\n",
       "    </tr>\n",
       "  </tbody>\n",
       "</table>\n",
       "</div>"
      ],
      "text/plain": [
       "    RHC Accuracy  RHC Time  SA Accuracy  SA Time  GA Accuracy  GA Time\n",
       "45      0.131822     0.016     0.143872    0.017     0.152230  173.589\n",
       "46      0.118917     0.019     0.130866    0.017     0.153069  171.028\n",
       "47      0.132077     0.016     0.127226    0.018     0.152932  171.564\n",
       "48      0.125149     0.017     0.127661    0.018     0.160977  173.848\n",
       "49      0.144654     0.017     0.120175    0.018     0.155621  183.025"
      ]
     },
     "execution_count": 251,
     "metadata": {},
     "output_type": "execute_result"
    }
   ],
   "source": [
    "sub_df = pd.read_csv('metrics/tsm_rhc_sa_ga_50000.csv', header=None)\n",
    "sub_df = sub_df.T\n",
    "sub_df = sub_df.rename(columns={0: 'RHC Accuracy', 1: 'RHC Time',\n",
    "                                2: 'SA Accuracy', 3: 'SA Time',\n",
    "                                4: 'GA Accuracy', 5: 'GA Time'})\n",
    "sub_df.tail()"
   ]
  },
  {
   "cell_type": "code",
   "execution_count": 254,
   "metadata": {},
   "outputs": [
    {
     "data": {
      "image/png": "[encoded data removed]",
      "text/plain": [
       "<Figure size 504x504 with 1 Axes>"
      ]
     },
     "metadata": {},
     "output_type": "display_data"
    }
   ],
   "source": [
    "'''# of Iterations vs Metric'''\n",
    "# Change Metrics and number of iterations appropriately\n",
    "iterations1 = [i for i in range(1, 50001, 100)]            # FourPeaks\n",
    "iterations2 = [i for i in range(1, 50001, 1000)]           # TSM\n",
    "rhc_acc = sub_df.loc[:, 'RHC Accuracy']\n",
    "sa_acc = sub_df.loc[:, 'SA Accuracy']\n",
    "ga_acc = sub_df.loc[:, 'GA Accuracy']\n",
    "x = iterations2\n",
    "\n",
    "# Change title, xlabel, ylabel appropriately\n",
    "xlabel = '# of Iterations'\n",
    "ylabel = 'Fitness'\n",
    "title = 'Optimization Algorithm Performance'\n",
    "problem = 'TSM_rhc_sa_ga'\n",
    "\n",
    "sns.set()\n",
    "plt.figure(figsize=(7,7))\n",
    "plt.scatter(x=x, y=rhc_acc, label='RHC', alpha=0.8, s=12)\n",
    "plt.scatter(x=x, y=sa_acc, label='SA', alpha=0.8, s=12)\n",
    "plt.scatter(x=x, y=ga_acc, label='GA', alpha=0.8, s=12)\n",
    "\n",
    "plt.xlabel(xlabel, fontsize=14)\n",
    "plt.ylabel(ylabel, fontsize=14)\n",
    "plt.title(title, fontsize=16)\n",
    "plt.legend(fontsize=14)\n",
    "\n",
    "# Saving plots\n",
    "plt.savefig(\"plots/\" + problem + '_' + title + '_' + \".png\")\n",
    "\n",
    "plt.show()"
   ]
  },
  {
   "cell_type": "code",
   "execution_count": 255,
   "metadata": {},
   "outputs": [
    {
     "data": {
      "image/png": "[encoded data removed]",
      "text/plain": [
       "<Figure size 504x504 with 1 Axes>"
      ]
     },
     "metadata": {},
     "output_type": "display_data"
    }
   ],
   "source": [
    "'''# of Iterations vs Time'''\n",
    "# Change Metrics and number of iterations appropriately\n",
    "rhc_time = sub_df.loc[:, 'RHC Time']\n",
    "sa_time = sub_df.loc[:, 'SA Time']\n",
    "ga_time = sub_df.loc[:, 'GA Time']\n",
    "\n",
    "# Change title, xlabel, ylabel appropriately\n",
    "title = 'Training Time'\n",
    "xlabel = '# of Iterations'\n",
    "ylabel = 'Time (sec)'\n",
    "\n",
    "sns.set()\n",
    "plt.figure(figsize=(7,7))\n",
    "plt.scatter(x=x, y=rhc_time, label='RHC', alpha=0.8, s=12)\n",
    "plt.scatter(x=x, y=sa_time, label='SA', alpha=0.8, s=12)\n",
    "plt.scatter(x=x, y=ga_time, label='GA', alpha=0.8, s=12)\n",
    "\n",
    "plt.xlabel(xlabel, fontsize=14)\n",
    "plt.ylabel(ylabel, fontsize=14)\n",
    "plt.title(title, fontsize=16)\n",
    "plt.legend(fontsize=14)\n",
    "\n",
    "# Saving plots\n",
    "plt.savefig(\"plots/\" + problem + '_' + title + '_' + \".png\")\n",
    "\n",
    "plt.show()"
   ]
  },
  {
   "cell_type": "code",
   "execution_count": 304,
   "metadata": {},
   "outputs": [
    {
     "data": {
      "text/html": [
       "<div>\n",
       "<style scoped>\n",
       "    .dataframe tbody tr th:only-of-type {\n",
       "        vertical-align: middle;\n",
       "    }\n",
       "\n",
       "    .dataframe tbody tr th {\n",
       "        vertical-align: top;\n",
       "    }\n",
       "\n",
       "    .dataframe thead th {\n",
       "        text-align: right;\n",
       "    }\n",
       "</style>\n",
       "<table border=\"1\" class=\"dataframe\">\n",
       "  <thead>\n",
       "    <tr style=\"text-align: right;\">\n",
       "      <th></th>\n",
       "      <th>0</th>\n",
       "      <th>1</th>\n",
       "      <th>2</th>\n",
       "      <th>3</th>\n",
       "    </tr>\n",
       "  </thead>\n",
       "  <tbody>\n",
       "    <tr>\n",
       "      <th>4500</th>\n",
       "      <td>78.370137</td>\n",
       "      <td>0.524</td>\n",
       "      <td>77.686646</td>\n",
       "      <td>0.022</td>\n",
       "    </tr>\n",
       "    <tr>\n",
       "      <th>4501</th>\n",
       "      <td>77.434280</td>\n",
       "      <td>0.525</td>\n",
       "      <td>77.686646</td>\n",
       "      <td>0.021</td>\n",
       "    </tr>\n",
       "    <tr>\n",
       "      <th>4502</th>\n",
       "      <td>78.538381</td>\n",
       "      <td>0.520</td>\n",
       "      <td>78.748686</td>\n",
       "      <td>0.021</td>\n",
       "    </tr>\n",
       "    <tr>\n",
       "      <th>4503</th>\n",
       "      <td>78.538381</td>\n",
       "      <td>0.521</td>\n",
       "      <td>78.748686</td>\n",
       "      <td>0.021</td>\n",
       "    </tr>\n",
       "    <tr>\n",
       "      <th>4504</th>\n",
       "      <td>75.352261</td>\n",
       "      <td>0.527</td>\n",
       "      <td>78.159832</td>\n",
       "      <td>0.022</td>\n",
       "    </tr>\n",
       "  </tbody>\n",
       "</table>\n",
       "</div>"
      ],
      "text/plain": [
       "              0      1          2      3\n",
       "4500  78.370137  0.524  77.686646  0.022\n",
       "4501  77.434280  0.525  77.686646  0.021\n",
       "4502  78.538381  0.520  78.748686  0.021\n",
       "4503  78.538381  0.521  78.748686  0.021\n",
       "4504  75.352261  0.527  78.159832  0.022"
      ]
     },
     "execution_count": 304,
     "metadata": {},
     "output_type": "execute_result"
    }
   ],
   "source": [
    "# Exact data points\n",
    "exact = pd.read_csv('metrics/GA_f1.csv', header=None)\n",
    "exact = exact.T\n",
    "\n",
    "index_start = 4500                # Optimal number of iterations\n",
    "index_end = index_start + 5\n",
    "\n",
    "exact.iloc[index_start:index_end, :]"
   ]
  },
  {
   "cell_type": "code",
   "execution_count": 305,
   "metadata": {},
   "outputs": [],
   "source": [
    "# Time processing\n",
    "train_time = exact.loc[:, 1]\n",
    "test_time = exact.loc[:, 3]\n",
    "new_train_time = []\n",
    "new_test_time = []\n",
    "\n",
    "'''\n",
    "Need to add up times over time for each iteration\n",
    "'''\n",
    "\n",
    "for i, time in enumerate(train_time):\n",
    "    if i == 0:\n",
    "        new_train_time.append(time)\n",
    "    else:\n",
    "        # Add previous and current times\n",
    "        new_train_time.append(new_train_time[i - 1] + time)\n",
    "        \n",
    "for i, time in enumerate(test_time):\n",
    "    if i == 0:\n",
    "        new_test_time.append(time)\n",
    "    else:\n",
    "        # Add previous and current times\n",
    "        new_test_time.append(new_test_time[i - 1] + time)"
   ]
  },
  {
   "cell_type": "code",
   "execution_count": 306,
   "metadata": {},
   "outputs": [
    {
     "data": {
      "text/plain": [
       "[2371.9210007190704,\n",
       " 2372.4460005760193,\n",
       " 2372.966000556946,\n",
       " 2373.4870007038116,\n",
       " 2374.0140006542206]"
      ]
     },
     "execution_count": 306,
     "metadata": {},
     "output_type": "execute_result"
    }
   ],
   "source": [
    "new_train_time[index_start:index_end]"
   ]
  },
  {
   "cell_type": "code",
   "execution_count": null,
   "metadata": {},
   "outputs": [],
   "source": []
  }
 ],
 "metadata": {
  "kernelspec": {
   "display_name": "ML",
   "language": "python",
   "name": "ml"
  },
  "language_info": {
   "codemirror_mode": {
    "name": "ipython",
    "version": 3
   },
   "file_extension": ".py",
   "mimetype": "text/x-python",
   "name": "python",
   "nbconvert_exporter": "python",
   "pygments_lexer": "ipython3",
   "version": "3.6.6"
  }
 },
 "nbformat": 4,
 "nbformat_minor": 2
}
